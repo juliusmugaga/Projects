{
  "nbformat": 4,
  "nbformat_minor": 0,
  "metadata": {
    "colab": {
      "provenance": [],
      "collapsed_sections": []
    },
    "kernelspec": {
      "name": "python3",
      "display_name": "Python 3"
    },
    "accelerator": "GPU"
  },
  "cells": [
    {
      "cell_type": "markdown",
      "metadata": {
        "id": "OpPhNErAUooE"
      },
      "source": [
        "## Linear Models as Neural Networks \n",
        "\n",
        "This is assignment one for my fourth year Biomedical Engineering studnets class of 2021\n"
      ]
    },
    {
      "cell_type": "markdown",
      "metadata": {
        "id": "cnCK_FVHp8Rl"
      },
      "source": []
    },
    {
      "cell_type": "markdown",
      "metadata": {
        "id": "Odaw35SnUk6H"
      },
      "source": [
        "## Various Python imports"
      ]
    },
    {
      "cell_type": "code",
      "metadata": {
        "id": "fpwaJGV_za2Z"
      },
      "source": [
        "from tensorflow import keras\n",
        "import numpy as np\n",
        "import tensorflow as tf\n",
        "import matplotlib.pyplot as plt\n",
        "\n",
        "\n",
        "%tensorflow_version 1.x\n",
        "import tensorflow as tf\n",
        "print(tf.__version__)"
      ],
      "execution_count": null,
      "outputs": []
    },
    {
      "cell_type": "code",
      "metadata": {
        "id": "W_SwA2fLDsbo",
        "colab": {
          "base_uri": "https://localhost:8080/"
        },
        "outputId": "2f693755-ffce-4d68-e1a2-4db55bb32be3"
      },
      "source": [
        "print(tf.__version__)\n"
      ],
      "execution_count": null,
      "outputs": [
        {
          "output_type": "stream",
          "text": [
            "2.4.1\n"
          ],
          "name": "stdout"
        }
      ]
    },
    {
      "cell_type": "markdown",
      "metadata": {
        "id": "PtQ6RX8OUqrI"
      },
      "source": [
        "## Define a dataset"
      ]
    },
    {
      "cell_type": "code",
      "metadata": {
        "id": "YGwO1seSjze2"
      },
      "source": [
        "X=np.arange(-10, 10, 0.01).reshape(-1, 1)\n",
        "# X = X/10;\n",
        "Y=np.square(X)+2"
      ],
      "execution_count": null,
      "outputs": []
    },
    {
      "cell_type": "code",
      "metadata": {
        "colab": {
          "base_uri": "https://localhost:8080/"
        },
        "id": "KScHmR-PfC7d",
        "outputId": "a272b772-35a3-4fc4-f9c1-29b97a24ac47"
      },
      "source": [
        "len(X)"
      ],
      "execution_count": null,
      "outputs": [
        {
          "output_type": "execute_result",
          "data": {
            "text/plain": [
              "2000"
            ]
          },
          "metadata": {
            "tags": []
          },
          "execution_count": 4
        }
      ]
    },
    {
      "cell_type": "code",
      "metadata": {
        "id": "XJaLnMjg1vTk"
      },
      "source": [
        "X_test=np.arange(-20, 20, 1).reshape(-1, 1)\n",
        "# X_test = X_test/20\n",
        "Y_test=np.square(X_test)+2"
      ],
      "execution_count": null,
      "outputs": []
    },
    {
      "cell_type": "code",
      "metadata": {
        "id": "gs2S0UNGl5pw"
      },
      "source": [
        "#Applying polynomial transformation to the values of X and X_test\n",
        "from sklearn.preprocessing import PolynomialFeatures\n",
        "poly_features = PolynomialFeatures(degree = 2, include_bias = False)\n",
        "X_train_poly = poly_features.fit_transform(X)\n",
        "X_test_poly = poly_features.fit_transform(X_test)"
      ],
      "execution_count": null,
      "outputs": []
    },
    {
      "cell_type": "markdown",
      "metadata": {
        "id": "Q1qCv8IKFMaz"
      },
      "source": [
        "## Plot training data"
      ]
    },
    {
      "cell_type": "code",
      "metadata": {
        "id": "SdSMtKFcmzdC",
        "colab": {
          "base_uri": "https://localhost:8080/",
          "height": 265
        },
        "outputId": "215a03fd-4dc3-49ed-d030-b67971d113ef"
      },
      "source": [
        "plt.plot(X,Y,color='r',label='Correct output')\n",
        "plt.legend(loc='center')\n",
        "plt.show()"
      ],
      "execution_count": null,
      "outputs": [
        {
          "output_type": "display_data",
          "data": {
            "image/png": "[encoded data removed]",
            "text/plain": [
              "<Figure size 432x288 with 1 Axes>"
            ]
          },
          "metadata": {
            "tags": [],
            "needs_background": "light"
          }
        }
      ]
    },
    {
      "cell_type": "markdown",
      "metadata": {
        "id": "j0knoWl7FN6-"
      },
      "source": [
        "## Plot testing data"
      ]
    },
    {
      "cell_type": "code",
      "metadata": {
        "id": "Sx1pJpNb10h-",
        "colab": {
          "base_uri": "https://localhost:8080/",
          "height": 265
        },
        "outputId": "74880bea-4eab-49dc-a379-f7efdec61f04"
      },
      "source": [
        "plt.plot(X_test,Y_test,color='r',label='Correct output')\n",
        "plt.legend(loc='center')\n",
        "plt.show()"
      ],
      "execution_count": null,
      "outputs": [
        {
          "output_type": "display_data",
          "data": {
            "image/png": "[encoded data removed]",
            "text/plain": [
              "<Figure size 432x288 with 1 Axes>"
            ]
          },
          "metadata": {
            "tags": [],
            "needs_background": "light"
          }
        }
      ]
    },
    {
      "cell_type": "markdown",
      "metadata": {
        "id": "QN88rOm-U0GG"
      },
      "source": [
        "## Define a sequential model and add layers"
      ]
    },
    {
      "cell_type": "code",
      "metadata": {
        "id": "BaqVpp-8zuSz"
      },
      "source": [
        "## Your code here\n",
        "from tensorflow.keras.layers import Dense, Dropout, BatchNormalization\n",
        "from tensorflow.keras.models import Sequential\n",
        "\n",
        "\n",
        "model = Sequential([Dense(10, input_shape = [len(X_train_poly[0])], activation = 'relu'),\n",
        "                  Dense(10, activation = 'relu'),\n",
        "                    Dense(10, activation = 'relu'),\n",
        "                  Dense(1)])"
      ],
      "execution_count": null,
      "outputs": []
    },
    {
      "cell_type": "markdown",
      "metadata": {
        "id": "B3FaKV9JFTbL"
      },
      "source": [
        "## Compile the model"
      ]
    },
    {
      "cell_type": "code",
      "metadata": {
        "id": "B3E8n9b9z3wz"
      },
      "source": [
        "## Your code here\n",
        "from tensorflow.keras.optimizers import Adam, SGD\n",
        "from tensorflow.keras.metrics import RootMeanSquaredError, MeanSquaredError, MeanAbsoluteError\n",
        "\n",
        "model.compile(optimizer = Adam(lr = 0.001), loss = 'mse', metrics=[MeanAbsoluteError(),MeanSquaredError()])\n"
      ],
      "execution_count": null,
      "outputs": []
    },
    {
      "cell_type": "code",
      "metadata": {
        "id": "UVpwz1BMUS6m",
        "colab": {
          "base_uri": "https://localhost:8080/"
        },
        "outputId": "f964c662-b38a-41bf-aa83-1184b686f851"
      },
      "source": [
        "model.summary()\n"
      ],
      "execution_count": null,
      "outputs": [
        {
          "output_type": "stream",
          "text": [
            "Model: \"sequential\"\n",
            "_________________________________________________________________\n",
            "Layer (type)                 Output Shape              Param #   \n",
            "=================================================================\n",
            "dense (Dense)                (None, 10)                30        \n",
            "_________________________________________________________________\n",
            "dense_1 (Dense)              (None, 10)                110       \n",
            "_________________________________________________________________\n",
            "dense_2 (Dense)              (None, 10)                110       \n",
            "_________________________________________________________________\n",
            "dense_3 (Dense)              (None, 1)                 11        \n",
            "=================================================================\n",
            "Total params: 261\n",
            "Trainable params: 261\n",
            "Non-trainable params: 0\n",
            "_________________________________________________________________\n"
          ],
          "name": "stdout"
        }
      ]
    },
    {
      "cell_type": "code",
      "metadata": {
        "id": "Bs9ZMT4VUaqQ",
        "colab": {
          "base_uri": "https://localhost:8080/",
          "height": 180
        },
        "outputId": "752ef132-03a8-47f2-eaac-7dde920ac1c4"
      },
      "source": [
        "\n",
        "model.predict(poly_features.fit_transform(np.array(100).reshape(1,-1)))"
      ],
      "execution_count": null,
      "outputs": [
        {
          "output_type": "error",
          "ename": "NameError",
          "evalue": "ignored",
          "traceback": [
            "\u001b[0;31m---------------------------------------------------------------------------\u001b[0m",
            "\u001b[0;31mNameError\u001b[0m                                 Traceback (most recent call last)",
            "\u001b[0;32m<ipython-input-9-6e999520c344>\u001b[0m in \u001b[0;36m<module>\u001b[0;34m()\u001b[0m\n\u001b[1;32m      1\u001b[0m \u001b[0;34m\u001b[0m\u001b[0m\n\u001b[0;32m----> 2\u001b[0;31m \u001b[0mmodel\u001b[0m\u001b[0;34m.\u001b[0m\u001b[0mpredict\u001b[0m\u001b[0;34m(\u001b[0m\u001b[0mpoly_features\u001b[0m\u001b[0;34m.\u001b[0m\u001b[0mfit_transform\u001b[0m\u001b[0;34m(\u001b[0m\u001b[0mnp\u001b[0m\u001b[0;34m.\u001b[0m\u001b[0marray\u001b[0m\u001b[0;34m(\u001b[0m\u001b[0;36m100\u001b[0m\u001b[0;34m)\u001b[0m\u001b[0;34m.\u001b[0m\u001b[0mreshape\u001b[0m\u001b[0;34m(\u001b[0m\u001b[0;36m1\u001b[0m\u001b[0;34m,\u001b[0m\u001b[0;34m-\u001b[0m\u001b[0;36m1\u001b[0m\u001b[0;34m)\u001b[0m\u001b[0;34m)\u001b[0m\u001b[0;34m)\u001b[0m\u001b[0;34m\u001b[0m\u001b[0;34m\u001b[0m\u001b[0m\n\u001b[0m",
            "\u001b[0;31mNameError\u001b[0m: name 'model' is not defined"
          ]
        }
      ]
    },
    {
      "cell_type": "markdown",
      "metadata": {
        "id": "9YfvZBXcFVtD"
      },
      "source": [
        "## Train the model"
      ]
    },
    {
      "cell_type": "code",
      "metadata": {
        "id": "ay5LYPLE0QAc",
        "colab": {
          "base_uri": "https://localhost:8080/",
          "height": 197
        },
        "outputId": "73723629-6bdf-4e15-f3f0-74fdc8d31059"
      },
      "source": [
        "## Your code here\n",
        "history = model.fit(X_train_poly, Y, epochs = 300, validation_split = 0.1)"
      ],
      "execution_count": null,
      "outputs": [
        {
          "output_type": "error",
          "ename": "NameError",
          "evalue": "ignored",
          "traceback": [
            "\u001b[0;31m---------------------------------------------------------------------------\u001b[0m",
            "\u001b[0;31mNameError\u001b[0m                                 Traceback (most recent call last)",
            "\u001b[0;32m<ipython-input-8-ad5d16952899>\u001b[0m in \u001b[0;36m<module>\u001b[0;34m()\u001b[0m\n\u001b[1;32m      1\u001b[0m \u001b[0;31m## Your code here\u001b[0m\u001b[0;34m\u001b[0m\u001b[0;34m\u001b[0m\u001b[0;34m\u001b[0m\u001b[0m\n\u001b[0;32m----> 2\u001b[0;31m \u001b[0mhistory\u001b[0m \u001b[0;34m=\u001b[0m \u001b[0mmodel\u001b[0m\u001b[0;34m.\u001b[0m\u001b[0mfit\u001b[0m\u001b[0;34m(\u001b[0m\u001b[0mX_train_poly\u001b[0m\u001b[0;34m,\u001b[0m \u001b[0mY\u001b[0m\u001b[0;34m,\u001b[0m \u001b[0mepochs\u001b[0m \u001b[0;34m=\u001b[0m \u001b[0;36m300\u001b[0m\u001b[0;34m,\u001b[0m \u001b[0mvalidation_split\u001b[0m \u001b[0;34m=\u001b[0m \u001b[0;36m0.1\u001b[0m\u001b[0;34m)\u001b[0m\u001b[0;34m\u001b[0m\u001b[0;34m\u001b[0m\u001b[0m\n\u001b[0m",
            "\u001b[0;31mNameError\u001b[0m: name 'model' is not defined"
          ]
        }
      ]
    },
    {
      "cell_type": "code",
      "metadata": {
        "id": "_WclpUtJVUwz",
        "colab": {
          "base_uri": "https://localhost:8080/"
        },
        "outputId": "97e72193-8aa3-4cdc-c395-0f99c24bf966"
      },
      "source": [
        "model.predict(poly_features.fit_transform(np.array(100).reshape(1,-1)))"
      ],
      "execution_count": null,
      "outputs": [
        {
          "output_type": "execute_result",
          "data": {
            "text/plain": [
              "array([[10066.734]], dtype=float32)"
            ]
          },
          "metadata": {
            "tags": []
          },
          "execution_count": 14
        }
      ]
    },
    {
      "cell_type": "markdown",
      "metadata": {
        "id": "vonx2u7zX2Sg"
      },
      "source": [
        "## Plot the training history"
      ]
    },
    {
      "cell_type": "code",
      "metadata": {
        "colab": {
          "base_uri": "https://localhost:8080/",
          "height": 198
        },
        "id": "oeat-pkImqxy",
        "outputId": "898df50f-77c9-4f86-ae96-341847c5c9db"
      },
      "source": [
        "import pandas as pd\n",
        "df = pd.DataFrame(history.history)\n",
        "df.head()"
      ],
      "execution_count": null,
      "outputs": [
        {
          "output_type": "execute_result",
          "data": {
            "text/html": [
              "<div>\n",
              "<style scoped>\n",
              "    .dataframe tbody tr th:only-of-type {\n",
              "        vertical-align: middle;\n",
              "    }\n",
              "\n",
              "    .dataframe tbody tr th {\n",
              "        vertical-align: top;\n",
              "    }\n",
              "\n",
              "    .dataframe thead th {\n",
              "        text-align: right;\n",
              "    }\n",
              "</style>\n",
              "<table border=\"1\" class=\"dataframe\">\n",
              "  <thead>\n",
              "    <tr style=\"text-align: right;\">\n",
              "      <th></th>\n",
              "      <th>loss</th>\n",
              "      <th>mean_absolute_error</th>\n",
              "      <th>mean_squared_error</th>\n",
              "      <th>val_loss</th>\n",
              "      <th>val_mean_absolute_error</th>\n",
              "      <th>val_mean_squared_error</th>\n",
              "    </tr>\n",
              "  </thead>\n",
              "  <tbody>\n",
              "    <tr>\n",
              "      <th>0</th>\n",
              "      <td>1057.920898</td>\n",
              "      <td>24.342968</td>\n",
              "      <td>1057.920898</td>\n",
              "      <td>2716.012695</td>\n",
              "      <td>51.729004</td>\n",
              "      <td>2716.012695</td>\n",
              "    </tr>\n",
              "    <tr>\n",
              "      <th>1</th>\n",
              "      <td>251.996063</td>\n",
              "      <td>11.591994</td>\n",
              "      <td>251.996063</td>\n",
              "      <td>178.419617</td>\n",
              "      <td>13.292414</td>\n",
              "      <td>178.419617</td>\n",
              "    </tr>\n",
              "    <tr>\n",
              "      <th>2</th>\n",
              "      <td>4.083881</td>\n",
              "      <td>1.480368</td>\n",
              "      <td>4.083881</td>\n",
              "      <td>0.174347</td>\n",
              "      <td>0.394829</td>\n",
              "      <td>0.174347</td>\n",
              "    </tr>\n",
              "    <tr>\n",
              "      <th>3</th>\n",
              "      <td>0.458648</td>\n",
              "      <td>0.577805</td>\n",
              "      <td>0.458648</td>\n",
              "      <td>0.563953</td>\n",
              "      <td>0.717342</td>\n",
              "      <td>0.563953</td>\n",
              "    </tr>\n",
              "    <tr>\n",
              "      <th>4</th>\n",
              "      <td>0.201293</td>\n",
              "      <td>0.351823</td>\n",
              "      <td>0.201293</td>\n",
              "      <td>0.818142</td>\n",
              "      <td>0.877454</td>\n",
              "      <td>0.818142</td>\n",
              "    </tr>\n",
              "  </tbody>\n",
              "</table>\n",
              "</div>"
            ],
            "text/plain": [
              "          loss  ...  val_mean_squared_error\n",
              "0  1057.920898  ...             2716.012695\n",
              "1   251.996063  ...              178.419617\n",
              "2     4.083881  ...                0.174347\n",
              "3     0.458648  ...                0.563953\n",
              "4     0.201293  ...                0.818142\n",
              "\n",
              "[5 rows x 6 columns]"
            ]
          },
          "metadata": {
            "tags": []
          },
          "execution_count": 15
        }
      ]
    },
    {
      "cell_type": "code",
      "metadata": {
        "id": "73VxGbc2V0X6",
        "colab": {
          "base_uri": "https://localhost:8080/",
          "height": 513
        },
        "outputId": "0a5fd804-0562-4c70-b046-9ebdb520df5c"
      },
      "source": [
        "plt.figure(figsize=(8, 8))\n",
        "plt.plot(history.history['mean_squared_error'], label = 'Training error')\n",
        "plt.plot(history.history['val_mean_squared_error'], label = 'Validation error')\n",
        "plt.title('Error')\n",
        "plt.ylabel('Mean Absolute Error')\n",
        "plt.xlabel('Epoch')\n",
        "plt.legend()\n",
        "plt.show()"
      ],
      "execution_count": null,
      "outputs": [
        {
          "output_type": "display_data",
          "data": {
            "image/png": "[encoded data removed]",
            "text/plain": [
              "<Figure size 576x576 with 1 Axes>"
            ]
          },
          "metadata": {
            "tags": [],
            "needs_background": "light"
          }
        }
      ]
    },
    {
      "cell_type": "markdown",
      "metadata": {
        "id": "SZZyTzajFagS"
      },
      "source": [
        "## Plot the training data and predictions"
      ]
    },
    {
      "cell_type": "code",
      "metadata": {
        "id": "hchRvOxtk7Dp",
        "colab": {
          "base_uri": "https://localhost:8080/",
          "height": 265
        },
        "outputId": "3bd9f5a9-07f0-477c-8944-3f62e1afafbb"
      },
      "source": [
        "plt.plot(X,Y,color='r',label='Correct output')\n",
        "plt.plot(X,model.predict(X_train_poly),color='b',label='Network output')\n",
        "plt.legend(loc='center')\n",
        "plt.show()"
      ],
      "execution_count": null,
      "outputs": [
        {
          "output_type": "display_data",
          "data": {
            "image/png": "[encoded data removed]",
            "text/plain": [
              "<Figure size 432x288 with 1 Axes>"
            ]
          },
          "metadata": {
            "tags": [],
            "needs_background": "light"
          }
        }
      ]
    },
    {
      "cell_type": "markdown",
      "metadata": {
        "id": "zVG2yhd0FcuN"
      },
      "source": [
        "## Plot the testing data and predictions"
      ]
    },
    {
      "cell_type": "code",
      "metadata": {
        "id": "5ccfbOtW1-F3",
        "colab": {
          "base_uri": "https://localhost:8080/",
          "height": 265
        },
        "outputId": "fe87910c-0f30-4b43-a1e5-6574082551a6"
      },
      "source": [
        "plt.plot(X_test,Y_test,color='r',label='Correct output')\n",
        "plt.plot(X_test,model.predict(X_test_poly),color='b',label='Network output')\n",
        "plt.legend(loc='center')\n",
        "plt.show()"
      ],
      "execution_count": null,
      "outputs": [
        {
          "output_type": "display_data",
          "data": {
            "image/png": "[encoded data removed]",
            "text/plain": [
              "<Figure size 432x288 with 1 Axes>"
            ]
          },
          "metadata": {
            "tags": [],
            "needs_background": "light"
          }
        }
      ]
    },
    {
      "cell_type": "markdown",
      "metadata": {
        "id": "EW2R3xkRX64b"
      },
      "source": [
        "## Predict on some value"
      ]
    },
    {
      "cell_type": "code",
      "metadata": {
        "id": "WeWkMwOtzl2x",
        "colab": {
          "base_uri": "https://localhost:8080/"
        },
        "outputId": "4079a233-6961-40b2-955a-ad3cbf541dc1"
      },
      "source": [
        "samples = np.array([10,15,20]).reshape(-1,1)\n",
        "print(samples)\n",
        "samples.shape"
      ],
      "execution_count": null,
      "outputs": [
        {
          "output_type": "stream",
          "text": [
            "[[10]\n",
            " [15]\n",
            " [20]]\n"
          ],
          "name": "stdout"
        },
        {
          "output_type": "execute_result",
          "data": {
            "text/plain": [
              "(3, 1)"
            ]
          },
          "metadata": {
            "tags": []
          },
          "execution_count": 19
        }
      ]
    },
    {
      "cell_type": "code",
      "metadata": {
        "id": "NM-xR-gQ0UUk",
        "colab": {
          "base_uri": "https://localhost:8080/"
        },
        "outputId": "56033ef7-483c-4516-e795-ed5e83c5957f"
      },
      "source": [
        "samples_poly = poly_features.fit_transform(samples)\n",
        "model.predict(samples_poly)"
      ],
      "execution_count": null,
      "outputs": [
        {
          "output_type": "execute_result",
          "data": {
            "text/plain": [
              "array([[102.235664],\n",
              "       [228.26137 ],\n",
              "       [404.58792 ]], dtype=float32)"
            ]
          },
          "metadata": {
            "tags": []
          },
          "execution_count": 20
        }
      ]
    },
    {
      "cell_type": "code",
      "metadata": {
        "id": "DrHaDaULh1jx",
        "colab": {
          "base_uri": "https://localhost:8080/"
        },
        "outputId": "86c81648-d4c2-4ffd-eaff-3998aa4875dc"
      },
      "source": [
        "samples**2+2"
      ],
      "execution_count": null,
      "outputs": [
        {
          "output_type": "execute_result",
          "data": {
            "text/plain": [
              "array([[102],\n",
              "       [227],\n",
              "       [402]])"
            ]
          },
          "metadata": {
            "tags": []
          },
          "execution_count": 21
        }
      ]
    },
    {
      "cell_type": "markdown",
      "metadata": {
        "id": "PILO7dc3X8-C"
      },
      "source": [
        "## View the weights of the model"
      ]
    },
    {
      "cell_type": "code",
      "metadata": {
        "id": "Lb-IoZjr0Xlv",
        "colab": {
          "base_uri": "https://localhost:8080/"
        },
        "outputId": "c52ef95d-479f-482b-b7d8-733a67303207"
      },
      "source": [
        "model.get_weights()"
      ],
      "execution_count": null,
      "outputs": [
        {
          "output_type": "execute_result",
          "data": {
            "text/plain": [
              "[array([[-0.10108727, -0.48644033,  0.14052553, -0.30534217,  0.9555995 ,\n",
              "         -0.56454283, -0.49118567, -0.06470362,  0.6112355 , -0.20211716],\n",
              "        [-0.02044029, -0.6404825 ,  0.18380104, -0.07680275, -0.12325442,\n",
              "          0.79414386,  0.17164882, -0.53826624,  0.37940502,  0.7011688 ]],\n",
              "       dtype=float32),\n",
              " array([ 0.52614397, -0.12596013,  0.05582517,  0.68162864,  0.6071896 ,\n",
              "         0.15424934, -0.17532286, -0.00600376,  0.2005985 ,  0.13806708],\n",
              "       dtype=float32),\n",
              " array([[ 0.2811924 ,  0.4856479 , -0.81897587,  0.42339253,  0.5899563 ,\n",
              "          0.05401957,  0.25366646, -0.09176102,  0.3285306 ,  0.9124899 ],\n",
              "        [ 0.2622816 ,  0.47270977, -0.15443334, -0.10266972, -0.24677683,\n",
              "          0.01909278, -0.04051067,  0.69108456, -0.01046453,  0.7863072 ],\n",
              "        [ 0.30438933, -0.03507963, -0.44841784,  0.08032399,  0.6297163 ,\n",
              "          0.3861822 ,  0.10772721,  0.05707357, -0.21564963,  0.19282578],\n",
              "        [-0.40745524,  0.50758   , -0.28151608, -0.05388521,  0.26450497,\n",
              "          0.3200051 ,  0.7185071 ,  0.3959451 ,  0.5770478 ,  0.1333499 ],\n",
              "        [ 0.12679271, -0.37995344, -0.53580606,  0.22403094,  0.39128733,\n",
              "          0.37240556, -0.02276045,  0.35143536, -0.11736503,  0.1346843 ],\n",
              "        [-0.10377073,  0.27529538,  0.41861194,  0.59668183,  0.5876366 ,\n",
              "          0.5037007 ,  0.607756  , -0.5539299 ,  0.6084113 , -0.15857641],\n",
              "        [ 0.09449321,  0.3012863 , -0.24946591, -0.31116128,  0.46786687,\n",
              "          0.21612783,  0.38884586, -0.6313876 ,  0.15463787, -0.37657577],\n",
              "        [-0.525102  ,  0.4329418 ,  0.519994  , -0.4910873 ,  0.299768  ,\n",
              "          0.13238649,  0.53793657, -0.5001227 ,  0.04002118,  0.4005474 ],\n",
              "        [-0.18579316,  0.0478021 , -0.11682083,  0.35519415, -0.02321578,\n",
              "          0.54362005,  0.22730263, -0.23443426,  0.40021026,  0.36681053],\n",
              "        [-0.62836426,  0.10223571, -0.1157432 ,  0.35786533,  0.2297397 ,\n",
              "         -0.05696411, -0.4205501 ,  0.23433551,  0.21445315,  0.0687099 ]],\n",
              "       dtype=float32),\n",
              " array([-0.08161608, -0.04947608,  0.16968231,  0.12717669,  0.13303392,\n",
              "         0.02539877,  0.15431574,  0.03539888,  0.13196401,  0.43559456],\n",
              "       dtype=float32),\n",
              " array([[-0.21994326,  0.2804139 ,  0.32830495, -0.35856727, -0.06031583,\n",
              "         -0.4214942 ,  0.16496305,  0.45988512, -0.42316794, -0.299488  ],\n",
              "        [ 0.51119316,  0.09227153,  0.26229006, -0.10198489,  0.14108124,\n",
              "          0.10646151,  0.2862201 ,  0.36597368, -0.4510641 , -0.18335009],\n",
              "        [ 0.22552794,  0.3591441 , -0.47345722, -0.26152351,  0.56825227,\n",
              "          0.39200312, -0.3837812 , -0.06333989, -0.46158725, -0.49124962],\n",
              "        [-0.39318585,  0.05367954,  0.0212006 ,  0.47840106,  0.58889365,\n",
              "          0.39868808, -0.10037167,  0.15632604, -0.43364352,  0.35402817],\n",
              "        [-0.14540933,  0.40226287, -0.27026373,  0.26617667, -0.15006728,\n",
              "          0.6264776 , -0.5590503 ,  0.0153236 , -0.19077465, -0.03624541],\n",
              "        [ 0.08706108,  0.3922406 , -0.4836331 ,  0.55799454, -0.01764429,\n",
              "          0.15204643,  0.02475445, -0.33904898, -0.08900318, -0.42827168],\n",
              "        [-0.36556113, -0.03040261,  0.49852753,  0.6012186 ,  0.09135181,\n",
              "         -0.15908325, -0.19046126, -0.2135981 , -0.2749881 , -0.3737677 ],\n",
              "        [-0.20766467, -0.3982437 , -0.52045673, -0.26617453, -0.2482608 ,\n",
              "         -0.32970363,  0.28877673,  0.36343682, -0.50863546, -0.3915969 ],\n",
              "        [-0.47829032, -0.29637644, -0.5072434 , -0.27379176,  0.49488   ,\n",
              "          0.10850217,  0.39602607, -0.11130114,  0.24677438, -0.54686433],\n",
              "        [-0.3123208 , -0.2174396 , -0.38140512,  0.43068942,  0.7902017 ,\n",
              "          0.3251412 ,  0.34762767, -0.253392  ,  0.3292064 , -0.15947849]],\n",
              "       dtype=float32),\n",
              " array([ 0.0085911 , -0.10471027,  0.        ,  0.11695685,  0.11742219,\n",
              "         0.11433697, -0.01327041, -0.0092689 ,  0.        ,  0.        ],\n",
              "       dtype=float32),\n",
              " array([[ 0.3591681 ],\n",
              "        [-0.31792507],\n",
              "        [ 0.35296947],\n",
              "        [ 0.3537454 ],\n",
              "        [ 0.37067115],\n",
              "        [ 0.46405637],\n",
              "        [-0.03095103],\n",
              "        [-0.36064488],\n",
              "        [ 0.3818472 ],\n",
              "        [-0.496121  ]], dtype=float32),\n",
              " array([0.10898704], dtype=float32)]"
            ]
          },
          "metadata": {
            "tags": []
          },
          "execution_count": 22
        }
      ]
    },
    {
      "cell_type": "markdown",
      "metadata": {
        "id": "ZIj4X767Yk-3"
      },
      "source": [
        "## Tasks\n",
        "\n",
        "* Run the notebook yourself and check that you understand the various aspects\n",
        "\n",
        "* Try predicting for another value, is the answer correct?\n",
        "\n",
        "* Train the model for a different number of epochs (e.g. small number of epochs), are the results as good? ***NOTE: if you want to train a model again after changing a hyper-parameter you need to execute the model initialisation again. If not, you will resume training from whatever state the weights and biases were previously!***\n",
        "\n",
        "\n"
      ]
    },
    {
      "cell_type": "code",
      "metadata": {
        "id": "S4V3J_-IFxou"
      },
      "source": [],
      "execution_count": null,
      "outputs": []
    }
  ]
}