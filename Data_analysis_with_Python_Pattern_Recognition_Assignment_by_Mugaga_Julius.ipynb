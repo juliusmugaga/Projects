{
  "nbformat": 4,
  "nbformat_minor": 0,
  "metadata": {
    "colab": {
      "provenance": [],
      "collapsed_sections": []
    },
    "kernelspec": {
      "name": "python3",
      "display_name": "Python 3"
    },
    "language_info": {
      "name": "python"
    }
  },
  "cells": [
    {
      "cell_type": "markdown",
      "source": [
        "**Introduction**\n",
        "\n",
        "This is a sample run and marking guide for the data analysis assignment for the fourth-year class of 2022. Students are provided with the dataset to explore and at least carryout 80% of the operations as covered theoretically in class\n",
        "A student will score an A grade if they are able to think of at least 80% of the operations as I would expect here. "
      ],
      "metadata": {
        "id": "WbgkalJmJCrP"
      }
    },
    {
      "cell_type": "markdown",
      "source": [
        "**Libraries**\n",
        "\n",
        "Given below are the libraries to be used in performing data analysis in this work. Without first importing libraries, no further analysis can be performed with the codes."
      ],
      "metadata": {
        "id": "6jKXo9ZOJc8-"
      }
    },
    {
      "cell_type": "code",
      "source": [
        "import pandas as pd\n",
        "import numpy as np\n",
        "import seaborn as sns                       #visualisation\n",
        "import matplotlib.pyplot as plt             #visualisation\n",
        "%matplotlib inline     \n",
        "sns.set(color_codes=True)"
      ],
      "metadata": {
        "id": "oKktQlvlJfa3"
      },
      "execution_count": null,
      "outputs": []
    },
    {
      "cell_type": "markdown",
      "source": [
        "**Writing a command**\n",
        "\n",
        "For any file type being used as the source of data for analysis, the suitable representation should be used when calling the function. Since the data file being used in this case is an excel file, these are represented as 'excel' in python.\n",
        "\n",
        "The corresponding file path to the file should also be well attained otherwise one could be analysing another kind of data instead of the required one. The data path is what is in the bracket of the command on the first line below. The path can be got by right clicking on the uploaded file where one goes ahead to select 'copy file path' and then paste it in the quotes in the brackets.\n",
        "\n",
        "Before running any code, one needs to first rrun the libraries otherwise even if they are present but have not been run, an error message will be dispalyed. Also if a file has just been uploaded without the drive being moounted, the file only stays there temporarily and will need to be reuploaded when the session expires.\n",
        "\n",
        "The top 7 rows in the data table can be extracted as shown below."
      ],
      "metadata": {
        "id": "KJkKFjABJqPf"
      }
    },
    {
      "cell_type": "code",
      "source": [
        "df = pd.read_excel('/content/Moz.xlsx')\n",
        "# To display the top 7 rows \n",
        "df.head(7) "
      ],
      "metadata": {
        "colab": {
          "base_uri": "https://localhost:8080/",
          "height": 434
        },
        "id": "DOAkdv1EJwl8",
        "outputId": "8d995f26-0d63-48c5-f295-82a70179fbd0"
      },
      "execution_count": null,
      "outputs": [
        {
          "output_type": "execute_result",
          "data": {
            "text/plain": [
              "                     Name                Date              WarehouseName  Day  \\\n",
              "0  NTS Truck 1776 ER Back 2018-10-06 05:03:46  MZ_Maputo_NTS_White_Truck    6   \n",
              "1  NTS Truck 1776 ER Back 2018-10-06 05:08:46  MZ_Maputo_NTS_White_Truck    6   \n",
              "2  NTS Truck 1776 ER Back 2018-10-06 05:13:46  MZ_Maputo_NTS_White_Truck    6   \n",
              "3  NTS Truck 1776 ER Back 2018-10-06 05:18:46  MZ_Maputo_NTS_White_Truck    6   \n",
              "4  NTS Truck 1776 ER Back 2018-10-06 05:23:46  MZ_Maputo_NTS_White_Truck    6   \n",
              "5  NTS Truck 1776 ER Back 2018-10-06 05:28:46  MZ_Maputo_NTS_White_Truck    6   \n",
              "6  NTS Truck 1776 ER Back 2018-10-06 05:33:46  MZ_Maputo_NTS_White_Truck    6   \n",
              "\n",
              "  MonthName  Month  Year  Temperature TemperatureRange  \n",
              "0   October     10  2018         30.4            30-35  \n",
              "1   October     10  2018         31.1            30-35  \n",
              "2   October     10  2018         32.0            30-35  \n",
              "3   October     10  2018         32.4            30-35  \n",
              "4   October     10  2018         32.9            30-35  \n",
              "5   October     10  2018         33.6            30-35  \n",
              "6   October     10  2018         34.1            30-35  "
            ],
            "text/html": [
              "\n",
              "  <div id=\"df-d1d1d088-2ec6-45bf-b75d-3959fa479301\">\n",
              "    <div class=\"colab-df-container\">\n",
              "      <div>\n",
              "<style scoped>\n",
              "    .dataframe tbody tr th:only-of-type {\n",
              "        vertical-align: middle;\n",
              "    }\n",
              "\n",
              "    .dataframe tbody tr th {\n",
              "        vertical-align: top;\n",
              "    }\n",
              "\n",
              "    .dataframe thead th {\n",
              "        text-align: right;\n",
              "    }\n",
              "</style>\n",
              "<table border=\"1\" class=\"dataframe\">\n",
              "  <thead>\n",
              "    <tr style=\"text-align: right;\">\n",
              "      <th></th>\n",
              "      <th>Name</th>\n",
              "      <th>Date</th>\n",
              "      <th>WarehouseName</th>\n",
              "      <th>Day</th>\n",
              "      <th>MonthName</th>\n",
              "      <th>Month</th>\n",
              "      <th>Year</th>\n",
              "      <th>Temperature</th>\n",
              "      <th>TemperatureRange</th>\n",
              "    </tr>\n",
              "  </thead>\n",
              "  <tbody>\n",
              "    <tr>\n",
              "      <th>0</th>\n",
              "      <td>NTS Truck 1776 ER Back</td>\n",
              "      <td>2018-10-06 05:03:46</td>\n",
              "      <td>MZ_Maputo_NTS_White_Truck</td>\n",
              "      <td>6</td>\n",
              "      <td>October</td>\n",
              "      <td>10</td>\n",
              "      <td>2018</td>\n",
              "      <td>30.4</td>\n",
              "      <td>30-35</td>\n",
              "    </tr>\n",
              "    <tr>\n",
              "      <th>1</th>\n",
              "      <td>NTS Truck 1776 ER Back</td>\n",
              "      <td>2018-10-06 05:08:46</td>\n",
              "      <td>MZ_Maputo_NTS_White_Truck</td>\n",
              "      <td>6</td>\n",
              "      <td>October</td>\n",
              "      <td>10</td>\n",
              "      <td>2018</td>\n",
              "      <td>31.1</td>\n",
              "      <td>30-35</td>\n",
              "    </tr>\n",
              "    <tr>\n",
              "      <th>2</th>\n",
              "      <td>NTS Truck 1776 ER Back</td>\n",
              "      <td>2018-10-06 05:13:46</td>\n",
              "      <td>MZ_Maputo_NTS_White_Truck</td>\n",
              "      <td>6</td>\n",
              "      <td>October</td>\n",
              "      <td>10</td>\n",
              "      <td>2018</td>\n",
              "      <td>32.0</td>\n",
              "      <td>30-35</td>\n",
              "    </tr>\n",
              "    <tr>\n",
              "      <th>3</th>\n",
              "      <td>NTS Truck 1776 ER Back</td>\n",
              "      <td>2018-10-06 05:18:46</td>\n",
              "      <td>MZ_Maputo_NTS_White_Truck</td>\n",
              "      <td>6</td>\n",
              "      <td>October</td>\n",
              "      <td>10</td>\n",
              "      <td>2018</td>\n",
              "      <td>32.4</td>\n",
              "      <td>30-35</td>\n",
              "    </tr>\n",
              "    <tr>\n",
              "      <th>4</th>\n",
              "      <td>NTS Truck 1776 ER Back</td>\n",
              "      <td>2018-10-06 05:23:46</td>\n",
              "      <td>MZ_Maputo_NTS_White_Truck</td>\n",
              "      <td>6</td>\n",
              "      <td>October</td>\n",
              "      <td>10</td>\n",
              "      <td>2018</td>\n",
              "      <td>32.9</td>\n",
              "      <td>30-35</td>\n",
              "    </tr>\n",
              "    <tr>\n",
              "      <th>5</th>\n",
              "      <td>NTS Truck 1776 ER Back</td>\n",
              "      <td>2018-10-06 05:28:46</td>\n",
              "      <td>MZ_Maputo_NTS_White_Truck</td>\n",
              "      <td>6</td>\n",
              "      <td>October</td>\n",
              "      <td>10</td>\n",
              "      <td>2018</td>\n",
              "      <td>33.6</td>\n",
              "      <td>30-35</td>\n",
              "    </tr>\n",
              "    <tr>\n",
              "      <th>6</th>\n",
              "      <td>NTS Truck 1776 ER Back</td>\n",
              "      <td>2018-10-06 05:33:46</td>\n",
              "      <td>MZ_Maputo_NTS_White_Truck</td>\n",
              "      <td>6</td>\n",
              "      <td>October</td>\n",
              "      <td>10</td>\n",
              "      <td>2018</td>\n",
              "      <td>34.1</td>\n",
              "      <td>30-35</td>\n",
              "    </tr>\n",
              "  </tbody>\n",
              "</table>\n",
              "</div>\n",
              "      <button class=\"colab-df-convert\" onclick=\"convertToInteractive('df-d1d1d088-2ec6-45bf-b75d-3959fa479301')\"\n",
              "              title=\"Convert this dataframe to an interactive table.\"\n",
              "              style=\"display:none;\">\n",
              "        \n",
              "  <svg xmlns=\"http://www.w3.org/2000/svg\" height=\"24px\"viewBox=\"0 0 24 24\"\n",
              "       width=\"24px\">\n",
              "    <path d=\"M0 0h24v24H0V0z\" fill=\"none\"/>\n",
              "    <path d=\"M18.56 5.44l.94 2.06.94-2.06 2.06-.94-2.06-.94-.94-2.06-.94 2.06-2.06.94zm-11 1L8.5 8.5l.94-2.06 2.06-.94-2.06-.94L8.5 2.5l-.94 2.06-2.06.94zm10 10l.94 2.06.94-2.06 2.06-.94-2.06-.94-.94-2.06-.94 2.06-2.06.94z\"/><path d=\"M17.41 7.96l-1.37-1.37c-.4-.4-.92-.59-1.43-.59-.52 0-1.04.2-1.43.59L10.3 9.45l-7.72 7.72c-.78.78-.78 2.05 0 2.83L4 21.41c.39.39.9.59 1.41.59.51 0 1.02-.2 1.41-.59l7.78-7.78 2.81-2.81c.8-.78.8-2.07 0-2.86zM5.41 20L4 18.59l7.72-7.72 1.47 1.35L5.41 20z\"/>\n",
              "  </svg>\n",
              "      </button>\n",
              "      \n",
              "  <style>\n",
              "    .colab-df-container {\n",
              "      display:flex;\n",
              "      flex-wrap:wrap;\n",
              "      gap: 12px;\n",
              "    }\n",
              "\n",
              "    .colab-df-convert {\n",
              "      background-color: #E8F0FE;\n",
              "      border: none;\n",
              "      border-radius: 50%;\n",
              "      cursor: pointer;\n",
              "      display: none;\n",
              "      fill: #1967D2;\n",
              "      height: 32px;\n",
              "      padding: 0 0 0 0;\n",
              "      width: 32px;\n",
              "    }\n",
              "\n",
              "    .colab-df-convert:hover {\n",
              "      background-color: #E2EBFA;\n",
              "      box-shadow: 0px 1px 2px rgba(60, 64, 67, 0.3), 0px 1px 3px 1px rgba(60, 64, 67, 0.15);\n",
              "      fill: #174EA6;\n",
              "    }\n",
              "\n",
              "    [theme=dark] .colab-df-convert {\n",
              "      background-color: #3B4455;\n",
              "      fill: #D2E3FC;\n",
              "    }\n",
              "\n",
              "    [theme=dark] .colab-df-convert:hover {\n",
              "      background-color: #434B5C;\n",
              "      box-shadow: 0px 1px 3px 1px rgba(0, 0, 0, 0.15);\n",
              "      filter: drop-shadow(0px 1px 2px rgba(0, 0, 0, 0.3));\n",
              "      fill: #FFFFFF;\n",
              "    }\n",
              "  </style>\n",
              "\n",
              "      <script>\n",
              "        const buttonEl =\n",
              "          document.querySelector('#df-d1d1d088-2ec6-45bf-b75d-3959fa479301 button.colab-df-convert');\n",
              "        buttonEl.style.display =\n",
              "          google.colab.kernel.accessAllowed ? 'block' : 'none';\n",
              "\n",
              "        async function convertToInteractive(key) {\n",
              "          const element = document.querySelector('#df-d1d1d088-2ec6-45bf-b75d-3959fa479301');\n",
              "          const dataTable =\n",
              "            await google.colab.kernel.invokeFunction('convertToInteractive',\n",
              "                                                     [key], {});\n",
              "          if (!dataTable) return;\n",
              "\n",
              "          const docLinkHtml = 'Like what you see? Visit the ' +\n",
              "            '<a target=\"_blank\" href=https://colab.research.google.com/notebooks/data_table.ipynb>data table notebook</a>'\n",
              "            + ' to learn more about interactive tables.';\n",
              "          element.innerHTML = '';\n",
              "          dataTable['output_type'] = 'display_data';\n",
              "          await google.colab.output.renderOutput(dataTable, element);\n",
              "          const docLink = document.createElement('div');\n",
              "          docLink.innerHTML = docLinkHtml;\n",
              "          element.appendChild(docLink);\n",
              "        }\n",
              "      </script>\n",
              "    </div>\n",
              "  </div>\n",
              "  "
            ]
          },
          "metadata": {},
          "execution_count": 3
        }
      ]
    },
    {
      "cell_type": "markdown",
      "source": [
        "**Extracting data**\n",
        "\n",
        "The bottom 7 rows in the data table can be extracted as shown below."
      ],
      "metadata": {
        "id": "cwrTv7MUKBq0"
      }
    },
    {
      "cell_type": "code",
      "source": [
        "df.tail(7) # To display the botton 7 rows"
      ],
      "metadata": {
        "colab": {
          "base_uri": "https://localhost:8080/",
          "height": 434
        },
        "id": "K0mov1PRKYZt",
        "outputId": "61f54194-2aa1-4b9d-9ac3-1134ce83e327"
      },
      "execution_count": null,
      "outputs": [
        {
          "output_type": "execute_result",
          "data": {
            "text/plain": [
              "                           Name                Date  \\\n",
              "243  Foselev Truck White Middle 2019-11-12 09:04:50   \n",
              "244  Foselev Truck White Middle 2019-11-13 07:54:50   \n",
              "245  Foselev Truck White Middle 2019-11-13 12:44:50   \n",
              "246  Foselev Truck White Middle 2019-11-15 13:24:50   \n",
              "247  Foselev Truck White Middle 2019-11-15 13:54:50   \n",
              "248  Foselev Truck White Middle 2019-11-15 15:44:50   \n",
              "249  Foselev Truck White Middle 2019-11-18 13:54:50   \n",
              "\n",
              "                     WarehouseName  Day MonthName  Month  Year  Temperature  \\\n",
              "243  MZ_Maputo_Foselev_White_Truck   12  November     11  2019        31.04   \n",
              "244  MZ_Maputo_Foselev_White_Truck   13  November     11  2019        30.74   \n",
              "245  MZ_Maputo_Foselev_White_Truck   13  November     11  2019        30.65   \n",
              "246  MZ_Maputo_Foselev_White_Truck   15  November     11  2019        33.78   \n",
              "247  MZ_Maputo_Foselev_White_Truck   15  November     11  2019        34.21   \n",
              "248  MZ_Maputo_Foselev_White_Truck   15  November     11  2019        30.67   \n",
              "249  MZ_Maputo_Foselev_White_Truck   18  November     11  2019        33.22   \n",
              "\n",
              "    TemperatureRange  \n",
              "243            30-35  \n",
              "244            30-35  \n",
              "245            30-35  \n",
              "246            30-35  \n",
              "247            30-35  \n",
              "248            30-35  \n",
              "249            30-35  "
            ],
            "text/html": [
              "\n",
              "  <div id=\"df-5caa872a-e73f-4d85-bbf9-41d015aa7056\">\n",
              "    <div class=\"colab-df-container\">\n",
              "      <div>\n",
              "<style scoped>\n",
              "    .dataframe tbody tr th:only-of-type {\n",
              "        vertical-align: middle;\n",
              "    }\n",
              "\n",
              "    .dataframe tbody tr th {\n",
              "        vertical-align: top;\n",
              "    }\n",
              "\n",
              "    .dataframe thead th {\n",
              "        text-align: right;\n",
              "    }\n",
              "</style>\n",
              "<table border=\"1\" class=\"dataframe\">\n",
              "  <thead>\n",
              "    <tr style=\"text-align: right;\">\n",
              "      <th></th>\n",
              "      <th>Name</th>\n",
              "      <th>Date</th>\n",
              "      <th>WarehouseName</th>\n",
              "      <th>Day</th>\n",
              "      <th>MonthName</th>\n",
              "      <th>Month</th>\n",
              "      <th>Year</th>\n",
              "      <th>Temperature</th>\n",
              "      <th>TemperatureRange</th>\n",
              "    </tr>\n",
              "  </thead>\n",
              "  <tbody>\n",
              "    <tr>\n",
              "      <th>243</th>\n",
              "      <td>Foselev Truck White Middle</td>\n",
              "      <td>2019-11-12 09:04:50</td>\n",
              "      <td>MZ_Maputo_Foselev_White_Truck</td>\n",
              "      <td>12</td>\n",
              "      <td>November</td>\n",
              "      <td>11</td>\n",
              "      <td>2019</td>\n",
              "      <td>31.04</td>\n",
              "      <td>30-35</td>\n",
              "    </tr>\n",
              "    <tr>\n",
              "      <th>244</th>\n",
              "      <td>Foselev Truck White Middle</td>\n",
              "      <td>2019-11-13 07:54:50</td>\n",
              "      <td>MZ_Maputo_Foselev_White_Truck</td>\n",
              "      <td>13</td>\n",
              "      <td>November</td>\n",
              "      <td>11</td>\n",
              "      <td>2019</td>\n",
              "      <td>30.74</td>\n",
              "      <td>30-35</td>\n",
              "    </tr>\n",
              "    <tr>\n",
              "      <th>245</th>\n",
              "      <td>Foselev Truck White Middle</td>\n",
              "      <td>2019-11-13 12:44:50</td>\n",
              "      <td>MZ_Maputo_Foselev_White_Truck</td>\n",
              "      <td>13</td>\n",
              "      <td>November</td>\n",
              "      <td>11</td>\n",
              "      <td>2019</td>\n",
              "      <td>30.65</td>\n",
              "      <td>30-35</td>\n",
              "    </tr>\n",
              "    <tr>\n",
              "      <th>246</th>\n",
              "      <td>Foselev Truck White Middle</td>\n",
              "      <td>2019-11-15 13:24:50</td>\n",
              "      <td>MZ_Maputo_Foselev_White_Truck</td>\n",
              "      <td>15</td>\n",
              "      <td>November</td>\n",
              "      <td>11</td>\n",
              "      <td>2019</td>\n",
              "      <td>33.78</td>\n",
              "      <td>30-35</td>\n",
              "    </tr>\n",
              "    <tr>\n",
              "      <th>247</th>\n",
              "      <td>Foselev Truck White Middle</td>\n",
              "      <td>2019-11-15 13:54:50</td>\n",
              "      <td>MZ_Maputo_Foselev_White_Truck</td>\n",
              "      <td>15</td>\n",
              "      <td>November</td>\n",
              "      <td>11</td>\n",
              "      <td>2019</td>\n",
              "      <td>34.21</td>\n",
              "      <td>30-35</td>\n",
              "    </tr>\n",
              "    <tr>\n",
              "      <th>248</th>\n",
              "      <td>Foselev Truck White Middle</td>\n",
              "      <td>2019-11-15 15:44:50</td>\n",
              "      <td>MZ_Maputo_Foselev_White_Truck</td>\n",
              "      <td>15</td>\n",
              "      <td>November</td>\n",
              "      <td>11</td>\n",
              "      <td>2019</td>\n",
              "      <td>30.67</td>\n",
              "      <td>30-35</td>\n",
              "    </tr>\n",
              "    <tr>\n",
              "      <th>249</th>\n",
              "      <td>Foselev Truck White Middle</td>\n",
              "      <td>2019-11-18 13:54:50</td>\n",
              "      <td>MZ_Maputo_Foselev_White_Truck</td>\n",
              "      <td>18</td>\n",
              "      <td>November</td>\n",
              "      <td>11</td>\n",
              "      <td>2019</td>\n",
              "      <td>33.22</td>\n",
              "      <td>30-35</td>\n",
              "    </tr>\n",
              "  </tbody>\n",
              "</table>\n",
              "</div>\n",
              "      <button class=\"colab-df-convert\" onclick=\"convertToInteractive('df-5caa872a-e73f-4d85-bbf9-41d015aa7056')\"\n",
              "              title=\"Convert this dataframe to an interactive table.\"\n",
              "              style=\"display:none;\">\n",
              "        \n",
              "  <svg xmlns=\"http://www.w3.org/2000/svg\" height=\"24px\"viewBox=\"0 0 24 24\"\n",
              "       width=\"24px\">\n",
              "    <path d=\"M0 0h24v24H0V0z\" fill=\"none\"/>\n",
              "    <path d=\"M18.56 5.44l.94 2.06.94-2.06 2.06-.94-2.06-.94-.94-2.06-.94 2.06-2.06.94zm-11 1L8.5 8.5l.94-2.06 2.06-.94-2.06-.94L8.5 2.5l-.94 2.06-2.06.94zm10 10l.94 2.06.94-2.06 2.06-.94-2.06-.94-.94-2.06-.94 2.06-2.06.94z\"/><path d=\"M17.41 7.96l-1.37-1.37c-.4-.4-.92-.59-1.43-.59-.52 0-1.04.2-1.43.59L10.3 9.45l-7.72 7.72c-.78.78-.78 2.05 0 2.83L4 21.41c.39.39.9.59 1.41.59.51 0 1.02-.2 1.41-.59l7.78-7.78 2.81-2.81c.8-.78.8-2.07 0-2.86zM5.41 20L4 18.59l7.72-7.72 1.47 1.35L5.41 20z\"/>\n",
              "  </svg>\n",
              "      </button>\n",
              "      \n",
              "  <style>\n",
              "    .colab-df-container {\n",
              "      display:flex;\n",
              "      flex-wrap:wrap;\n",
              "      gap: 12px;\n",
              "    }\n",
              "\n",
              "    .colab-df-convert {\n",
              "      background-color: #E8F0FE;\n",
              "      border: none;\n",
              "      border-radius: 50%;\n",
              "      cursor: pointer;\n",
              "      display: none;\n",
              "      fill: #1967D2;\n",
              "      height: 32px;\n",
              "      padding: 0 0 0 0;\n",
              "      width: 32px;\n",
              "    }\n",
              "\n",
              "    .colab-df-convert:hover {\n",
              "      background-color: #E2EBFA;\n",
              "      box-shadow: 0px 1px 2px rgba(60, 64, 67, 0.3), 0px 1px 3px 1px rgba(60, 64, 67, 0.15);\n",
              "      fill: #174EA6;\n",
              "    }\n",
              "\n",
              "    [theme=dark] .colab-df-convert {\n",
              "      background-color: #3B4455;\n",
              "      fill: #D2E3FC;\n",
              "    }\n",
              "\n",
              "    [theme=dark] .colab-df-convert:hover {\n",
              "      background-color: #434B5C;\n",
              "      box-shadow: 0px 1px 3px 1px rgba(0, 0, 0, 0.15);\n",
              "      filter: drop-shadow(0px 1px 2px rgba(0, 0, 0, 0.3));\n",
              "      fill: #FFFFFF;\n",
              "    }\n",
              "  </style>\n",
              "\n",
              "      <script>\n",
              "        const buttonEl =\n",
              "          document.querySelector('#df-5caa872a-e73f-4d85-bbf9-41d015aa7056 button.colab-df-convert');\n",
              "        buttonEl.style.display =\n",
              "          google.colab.kernel.accessAllowed ? 'block' : 'none';\n",
              "\n",
              "        async function convertToInteractive(key) {\n",
              "          const element = document.querySelector('#df-5caa872a-e73f-4d85-bbf9-41d015aa7056');\n",
              "          const dataTable =\n",
              "            await google.colab.kernel.invokeFunction('convertToInteractive',\n",
              "                                                     [key], {});\n",
              "          if (!dataTable) return;\n",
              "\n",
              "          const docLinkHtml = 'Like what you see? Visit the ' +\n",
              "            '<a target=\"_blank\" href=https://colab.research.google.com/notebooks/data_table.ipynb>data table notebook</a>'\n",
              "            + ' to learn more about interactive tables.';\n",
              "          element.innerHTML = '';\n",
              "          dataTable['output_type'] = 'display_data';\n",
              "          await google.colab.output.renderOutput(dataTable, element);\n",
              "          const docLink = document.createElement('div');\n",
              "          docLink.innerHTML = docLinkHtml;\n",
              "          element.appendChild(docLink);\n",
              "        }\n",
              "      </script>\n",
              "    </div>\n",
              "  </div>\n",
              "  "
            ]
          },
          "metadata": {},
          "execution_count": 4
        }
      ]
    },
    {
      "cell_type": "markdown",
      "source": [
        "**Checking data types**\n",
        "\n",
        "Below, checking the data types of the variables in the data is done. This is important because some functions like plotting a graph may not work when data types have been misallocated. For example if one wants to plot a graph of age of students which would have been an integer but is now assigned a string, then plotting will not be possible until the string is converted into an integer."
      ],
      "metadata": {
        "id": "G6kX0FsuKzaX"
      }
    },
    {
      "cell_type": "code",
      "source": [
        "df.dtypes # To determine the data type for each field."
      ],
      "metadata": {
        "colab": {
          "base_uri": "https://localhost:8080/"
        },
        "id": "3pB3uH5RK1yt",
        "outputId": "b179e7f2-cfd5-4885-adbf-78e1bd9f0845"
      },
      "execution_count": null,
      "outputs": [
        {
          "output_type": "execute_result",
          "data": {
            "text/plain": [
              "Name                        object\n",
              "Date                datetime64[ns]\n",
              "WarehouseName               object\n",
              "Day                          int64\n",
              "MonthName                   object\n",
              "Month                        int64\n",
              "Year                         int64\n",
              "Temperature                float64\n",
              "TemperatureRange            object\n",
              "dtype: object"
            ]
          },
          "metadata": {},
          "execution_count": 5
        }
      ]
    },
    {
      "cell_type": "markdown",
      "source": [
        "Each field is assigned its appropriate data type as shown above."
      ],
      "metadata": {
        "id": "QaQv6m2LnWs7"
      }
    },
    {
      "cell_type": "markdown",
      "source": [
        "**Period of temperature data collection**\n",
        "\n",
        "Another column 'month_year' has been included to show only the year and the month in which the temperature recordings were taken."
      ],
      "metadata": {
        "id": "R9PGAxMDmbri"
      }
    },
    {
      "cell_type": "code",
      "source": [
        "#if the date format comes in datetime, we can also extract the day/month/year using the to_period function\n",
        "#where 'D', 'M', 'Y' are inputs\n",
        "df['month_year'] = pd.to_datetime(df['Date']).dt.to_period('M') # Extracting the month and year from the date\n",
        "df.head(7)"
      ],
      "metadata": {
        "colab": {
          "base_uri": "https://localhost:8080/",
          "height": 677
        },
        "id": "RxdeI4iWkeA4",
        "outputId": "5094245c-22c6-4490-bb11-a98ea6087fac"
      },
      "execution_count": null,
      "outputs": [
        {
          "output_type": "execute_result",
          "data": {
            "text/plain": [
              "                     Name                Date              WarehouseName  Day  \\\n",
              "0  NTS Truck 1776 ER Back 2018-10-06 05:03:46  MZ_Maputo_NTS_White_Truck    6   \n",
              "1  NTS Truck 1776 ER Back 2018-10-06 05:08:46  MZ_Maputo_NTS_White_Truck    6   \n",
              "2  NTS Truck 1776 ER Back 2018-10-06 05:13:46  MZ_Maputo_NTS_White_Truck    6   \n",
              "3  NTS Truck 1776 ER Back 2018-10-06 05:18:46  MZ_Maputo_NTS_White_Truck    6   \n",
              "4  NTS Truck 1776 ER Back 2018-10-06 05:23:46  MZ_Maputo_NTS_White_Truck    6   \n",
              "5  NTS Truck 1776 ER Back 2018-10-06 05:28:46  MZ_Maputo_NTS_White_Truck    6   \n",
              "6  NTS Truck 1776 ER Back 2018-10-06 05:33:46  MZ_Maputo_NTS_White_Truck    6   \n",
              "\n",
              "  MonthName  Month  Year  Temperature TemperatureRange month_year  \n",
              "0   October     10  2018         30.4            30-35    2018-10  \n",
              "1   October     10  2018         31.1            30-35    2018-10  \n",
              "2   October     10  2018         32.0            30-35    2018-10  \n",
              "3   October     10  2018         32.4            30-35    2018-10  \n",
              "4   October     10  2018         32.9            30-35    2018-10  \n",
              "5   October     10  2018         33.6            30-35    2018-10  \n",
              "6   October     10  2018         34.1            30-35    2018-10  "
            ],
            "text/html": [
              "\n",
              "  <div id=\"df-efa7a430-6d08-408d-8bec-d07053ad944d\">\n",
              "    <div class=\"colab-df-container\">\n",
              "      <div>\n",
              "<style scoped>\n",
              "    .dataframe tbody tr th:only-of-type {\n",
              "        vertical-align: middle;\n",
              "    }\n",
              "\n",
              "    .dataframe tbody tr th {\n",
              "        vertical-align: top;\n",
              "    }\n",
              "\n",
              "    .dataframe thead th {\n",
              "        text-align: right;\n",
              "    }\n",
              "</style>\n",
              "<table border=\"1\" class=\"dataframe\">\n",
              "  <thead>\n",
              "    <tr style=\"text-align: right;\">\n",
              "      <th></th>\n",
              "      <th>Name</th>\n",
              "      <th>Date</th>\n",
              "      <th>WarehouseName</th>\n",
              "      <th>Day</th>\n",
              "      <th>MonthName</th>\n",
              "      <th>Month</th>\n",
              "      <th>Year</th>\n",
              "      <th>Temperature</th>\n",
              "      <th>TemperatureRange</th>\n",
              "      <th>month_year</th>\n",
              "    </tr>\n",
              "  </thead>\n",
              "  <tbody>\n",
              "    <tr>\n",
              "      <th>0</th>\n",
              "      <td>NTS Truck 1776 ER Back</td>\n",
              "      <td>2018-10-06 05:03:46</td>\n",
              "      <td>MZ_Maputo_NTS_White_Truck</td>\n",
              "      <td>6</td>\n",
              "      <td>October</td>\n",
              "      <td>10</td>\n",
              "      <td>2018</td>\n",
              "      <td>30.4</td>\n",
              "      <td>30-35</td>\n",
              "      <td>2018-10</td>\n",
              "    </tr>\n",
              "    <tr>\n",
              "      <th>1</th>\n",
              "      <td>NTS Truck 1776 ER Back</td>\n",
              "      <td>2018-10-06 05:08:46</td>\n",
              "      <td>MZ_Maputo_NTS_White_Truck</td>\n",
              "      <td>6</td>\n",
              "      <td>October</td>\n",
              "      <td>10</td>\n",
              "      <td>2018</td>\n",
              "      <td>31.1</td>\n",
              "      <td>30-35</td>\n",
              "      <td>2018-10</td>\n",
              "    </tr>\n",
              "    <tr>\n",
              "      <th>2</th>\n",
              "      <td>NTS Truck 1776 ER Back</td>\n",
              "      <td>2018-10-06 05:13:46</td>\n",
              "      <td>MZ_Maputo_NTS_White_Truck</td>\n",
              "      <td>6</td>\n",
              "      <td>October</td>\n",
              "      <td>10</td>\n",
              "      <td>2018</td>\n",
              "      <td>32.0</td>\n",
              "      <td>30-35</td>\n",
              "      <td>2018-10</td>\n",
              "    </tr>\n",
              "    <tr>\n",
              "      <th>3</th>\n",
              "      <td>NTS Truck 1776 ER Back</td>\n",
              "      <td>2018-10-06 05:18:46</td>\n",
              "      <td>MZ_Maputo_NTS_White_Truck</td>\n",
              "      <td>6</td>\n",
              "      <td>October</td>\n",
              "      <td>10</td>\n",
              "      <td>2018</td>\n",
              "      <td>32.4</td>\n",
              "      <td>30-35</td>\n",
              "      <td>2018-10</td>\n",
              "    </tr>\n",
              "    <tr>\n",
              "      <th>4</th>\n",
              "      <td>NTS Truck 1776 ER Back</td>\n",
              "      <td>2018-10-06 05:23:46</td>\n",
              "      <td>MZ_Maputo_NTS_White_Truck</td>\n",
              "      <td>6</td>\n",
              "      <td>October</td>\n",
              "      <td>10</td>\n",
              "      <td>2018</td>\n",
              "      <td>32.9</td>\n",
              "      <td>30-35</td>\n",
              "      <td>2018-10</td>\n",
              "    </tr>\n",
              "    <tr>\n",
              "      <th>5</th>\n",
              "      <td>NTS Truck 1776 ER Back</td>\n",
              "      <td>2018-10-06 05:28:46</td>\n",
              "      <td>MZ_Maputo_NTS_White_Truck</td>\n",
              "      <td>6</td>\n",
              "      <td>October</td>\n",
              "      <td>10</td>\n",
              "      <td>2018</td>\n",
              "      <td>33.6</td>\n",
              "      <td>30-35</td>\n",
              "      <td>2018-10</td>\n",
              "    </tr>\n",
              "    <tr>\n",
              "      <th>6</th>\n",
              "      <td>NTS Truck 1776 ER Back</td>\n",
              "      <td>2018-10-06 05:33:46</td>\n",
              "      <td>MZ_Maputo_NTS_White_Truck</td>\n",
              "      <td>6</td>\n",
              "      <td>October</td>\n",
              "      <td>10</td>\n",
              "      <td>2018</td>\n",
              "      <td>34.1</td>\n",
              "      <td>30-35</td>\n",
              "      <td>2018-10</td>\n",
              "    </tr>\n",
              "  </tbody>\n",
              "</table>\n",
              "</div>\n",
              "      <button class=\"colab-df-convert\" onclick=\"convertToInteractive('df-efa7a430-6d08-408d-8bec-d07053ad944d')\"\n",
              "              title=\"Convert this dataframe to an interactive table.\"\n",
              "              style=\"display:none;\">\n",
              "        \n",
              "  <svg xmlns=\"http://www.w3.org/2000/svg\" height=\"24px\"viewBox=\"0 0 24 24\"\n",
              "       width=\"24px\">\n",
              "    <path d=\"M0 0h24v24H0V0z\" fill=\"none\"/>\n",
              "    <path d=\"M18.56 5.44l.94 2.06.94-2.06 2.06-.94-2.06-.94-.94-2.06-.94 2.06-2.06.94zm-11 1L8.5 8.5l.94-2.06 2.06-.94-2.06-.94L8.5 2.5l-.94 2.06-2.06.94zm10 10l.94 2.06.94-2.06 2.06-.94-2.06-.94-.94-2.06-.94 2.06-2.06.94z\"/><path d=\"M17.41 7.96l-1.37-1.37c-.4-.4-.92-.59-1.43-.59-.52 0-1.04.2-1.43.59L10.3 9.45l-7.72 7.72c-.78.78-.78 2.05 0 2.83L4 21.41c.39.39.9.59 1.41.59.51 0 1.02-.2 1.41-.59l7.78-7.78 2.81-2.81c.8-.78.8-2.07 0-2.86zM5.41 20L4 18.59l7.72-7.72 1.47 1.35L5.41 20z\"/>\n",
              "  </svg>\n",
              "      </button>\n",
              "      \n",
              "  <style>\n",
              "    .colab-df-container {\n",
              "      display:flex;\n",
              "      flex-wrap:wrap;\n",
              "      gap: 12px;\n",
              "    }\n",
              "\n",
              "    .colab-df-convert {\n",
              "      background-color: #E8F0FE;\n",
              "      border: none;\n",
              "      border-radius: 50%;\n",
              "      cursor: pointer;\n",
              "      display: none;\n",
              "      fill: #1967D2;\n",
              "      height: 32px;\n",
              "      padding: 0 0 0 0;\n",
              "      width: 32px;\n",
              "    }\n",
              "\n",
              "    .colab-df-convert:hover {\n",
              "      background-color: #E2EBFA;\n",
              "      box-shadow: 0px 1px 2px rgba(60, 64, 67, 0.3), 0px 1px 3px 1px rgba(60, 64, 67, 0.15);\n",
              "      fill: #174EA6;\n",
              "    }\n",
              "\n",
              "    [theme=dark] .colab-df-convert {\n",
              "      background-color: #3B4455;\n",
              "      fill: #D2E3FC;\n",
              "    }\n",
              "\n",
              "    [theme=dark] .colab-df-convert:hover {\n",
              "      background-color: #434B5C;\n",
              "      box-shadow: 0px 1px 3px 1px rgba(0, 0, 0, 0.15);\n",
              "      filter: drop-shadow(0px 1px 2px rgba(0, 0, 0, 0.3));\n",
              "      fill: #FFFFFF;\n",
              "    }\n",
              "  </style>\n",
              "\n",
              "      <script>\n",
              "        const buttonEl =\n",
              "          document.querySelector('#df-efa7a430-6d08-408d-8bec-d07053ad944d button.colab-df-convert');\n",
              "        buttonEl.style.display =\n",
              "          google.colab.kernel.accessAllowed ? 'block' : 'none';\n",
              "\n",
              "        async function convertToInteractive(key) {\n",
              "          const element = document.querySelector('#df-efa7a430-6d08-408d-8bec-d07053ad944d');\n",
              "          const dataTable =\n",
              "            await google.colab.kernel.invokeFunction('convertToInteractive',\n",
              "                                                     [key], {});\n",
              "          if (!dataTable) return;\n",
              "\n",
              "          const docLinkHtml = 'Like what you see? Visit the ' +\n",
              "            '<a target=\"_blank\" href=https://colab.research.google.com/notebooks/data_table.ipynb>data table notebook</a>'\n",
              "            + ' to learn more about interactive tables.';\n",
              "          element.innerHTML = '';\n",
              "          dataTable['output_type'] = 'display_data';\n",
              "          await google.colab.output.renderOutput(dataTable, element);\n",
              "          const docLink = document.createElement('div');\n",
              "          docLink.innerHTML = docLinkHtml;\n",
              "          element.appendChild(docLink);\n",
              "        }\n",
              "      </script>\n",
              "    </div>\n",
              "  </div>\n",
              "  "
            ]
          },
          "metadata": {},
          "execution_count": 6
        }
      ]
    },
    {
      "cell_type": "markdown",
      "source": [
        "**Dropping irrelevant columns**\n",
        "\n",
        "Dropping irrelevant columns is done below. This is done because some data files can have multiple columns of which some will not be used at any point in the data analysis. This helps keep the results focused only to the areas of interest."
      ],
      "metadata": {
        "id": "SKXhu-Goqlad"
      }
    },
    {
      "cell_type": "code",
      "source": [
        "df = df.drop(['WarehouseName', 'Date'], axis=1)\n",
        "df.head(5)"
      ],
      "metadata": {
        "colab": {
          "base_uri": "https://localhost:8080/",
          "height": 206
        },
        "id": "GOPVDeVywC4u",
        "outputId": "5de47a87-78ba-41ee-b4ab-81443dcb98c0"
      },
      "execution_count": null,
      "outputs": [
        {
          "output_type": "execute_result",
          "data": {
            "text/plain": [
              "                     Name  Day MonthName  Month  Year  Temperature  \\\n",
              "0  NTS Truck 1776 ER Back    6   October     10  2018         30.4   \n",
              "1  NTS Truck 1776 ER Back    6   October     10  2018         31.1   \n",
              "2  NTS Truck 1776 ER Back    6   October     10  2018         32.0   \n",
              "3  NTS Truck 1776 ER Back    6   October     10  2018         32.4   \n",
              "4  NTS Truck 1776 ER Back    6   October     10  2018         32.9   \n",
              "\n",
              "  TemperatureRange month_year  \n",
              "0            30-35    2018-10  \n",
              "1            30-35    2018-10  \n",
              "2            30-35    2018-10  \n",
              "3            30-35    2018-10  \n",
              "4            30-35    2018-10  "
            ],
            "text/html": [
              "\n",
              "  <div id=\"df-3a055dd7-fdf2-444d-a00b-1f84b9c59d92\">\n",
              "    <div class=\"colab-df-container\">\n",
              "      <div>\n",
              "<style scoped>\n",
              "    .dataframe tbody tr th:only-of-type {\n",
              "        vertical-align: middle;\n",
              "    }\n",
              "\n",
              "    .dataframe tbody tr th {\n",
              "        vertical-align: top;\n",
              "    }\n",
              "\n",
              "    .dataframe thead th {\n",
              "        text-align: right;\n",
              "    }\n",
              "</style>\n",
              "<table border=\"1\" class=\"dataframe\">\n",
              "  <thead>\n",
              "    <tr style=\"text-align: right;\">\n",
              "      <th></th>\n",
              "      <th>Name</th>\n",
              "      <th>Day</th>\n",
              "      <th>MonthName</th>\n",
              "      <th>Month</th>\n",
              "      <th>Year</th>\n",
              "      <th>Temperature</th>\n",
              "      <th>TemperatureRange</th>\n",
              "      <th>month_year</th>\n",
              "    </tr>\n",
              "  </thead>\n",
              "  <tbody>\n",
              "    <tr>\n",
              "      <th>0</th>\n",
              "      <td>NTS Truck 1776 ER Back</td>\n",
              "      <td>6</td>\n",
              "      <td>October</td>\n",
              "      <td>10</td>\n",
              "      <td>2018</td>\n",
              "      <td>30.4</td>\n",
              "      <td>30-35</td>\n",
              "      <td>2018-10</td>\n",
              "    </tr>\n",
              "    <tr>\n",
              "      <th>1</th>\n",
              "      <td>NTS Truck 1776 ER Back</td>\n",
              "      <td>6</td>\n",
              "      <td>October</td>\n",
              "      <td>10</td>\n",
              "      <td>2018</td>\n",
              "      <td>31.1</td>\n",
              "      <td>30-35</td>\n",
              "      <td>2018-10</td>\n",
              "    </tr>\n",
              "    <tr>\n",
              "      <th>2</th>\n",
              "      <td>NTS Truck 1776 ER Back</td>\n",
              "      <td>6</td>\n",
              "      <td>October</td>\n",
              "      <td>10</td>\n",
              "      <td>2018</td>\n",
              "      <td>32.0</td>\n",
              "      <td>30-35</td>\n",
              "      <td>2018-10</td>\n",
              "    </tr>\n",
              "    <tr>\n",
              "      <th>3</th>\n",
              "      <td>NTS Truck 1776 ER Back</td>\n",
              "      <td>6</td>\n",
              "      <td>October</td>\n",
              "      <td>10</td>\n",
              "      <td>2018</td>\n",
              "      <td>32.4</td>\n",
              "      <td>30-35</td>\n",
              "      <td>2018-10</td>\n",
              "    </tr>\n",
              "    <tr>\n",
              "      <th>4</th>\n",
              "      <td>NTS Truck 1776 ER Back</td>\n",
              "      <td>6</td>\n",
              "      <td>October</td>\n",
              "      <td>10</td>\n",
              "      <td>2018</td>\n",
              "      <td>32.9</td>\n",
              "      <td>30-35</td>\n",
              "      <td>2018-10</td>\n",
              "    </tr>\n",
              "  </tbody>\n",
              "</table>\n",
              "</div>\n",
              "      <button class=\"colab-df-convert\" onclick=\"convertToInteractive('df-3a055dd7-fdf2-444d-a00b-1f84b9c59d92')\"\n",
              "              title=\"Convert this dataframe to an interactive table.\"\n",
              "              style=\"display:none;\">\n",
              "        \n",
              "  <svg xmlns=\"http://www.w3.org/2000/svg\" height=\"24px\"viewBox=\"0 0 24 24\"\n",
              "       width=\"24px\">\n",
              "    <path d=\"M0 0h24v24H0V0z\" fill=\"none\"/>\n",
              "    <path d=\"M18.56 5.44l.94 2.06.94-2.06 2.06-.94-2.06-.94-.94-2.06-.94 2.06-2.06.94zm-11 1L8.5 8.5l.94-2.06 2.06-.94-2.06-.94L8.5 2.5l-.94 2.06-2.06.94zm10 10l.94 2.06.94-2.06 2.06-.94-2.06-.94-.94-2.06-.94 2.06-2.06.94z\"/><path d=\"M17.41 7.96l-1.37-1.37c-.4-.4-.92-.59-1.43-.59-.52 0-1.04.2-1.43.59L10.3 9.45l-7.72 7.72c-.78.78-.78 2.05 0 2.83L4 21.41c.39.39.9.59 1.41.59.51 0 1.02-.2 1.41-.59l7.78-7.78 2.81-2.81c.8-.78.8-2.07 0-2.86zM5.41 20L4 18.59l7.72-7.72 1.47 1.35L5.41 20z\"/>\n",
              "  </svg>\n",
              "      </button>\n",
              "      \n",
              "  <style>\n",
              "    .colab-df-container {\n",
              "      display:flex;\n",
              "      flex-wrap:wrap;\n",
              "      gap: 12px;\n",
              "    }\n",
              "\n",
              "    .colab-df-convert {\n",
              "      background-color: #E8F0FE;\n",
              "      border: none;\n",
              "      border-radius: 50%;\n",
              "      cursor: pointer;\n",
              "      display: none;\n",
              "      fill: #1967D2;\n",
              "      height: 32px;\n",
              "      padding: 0 0 0 0;\n",
              "      width: 32px;\n",
              "    }\n",
              "\n",
              "    .colab-df-convert:hover {\n",
              "      background-color: #E2EBFA;\n",
              "      box-shadow: 0px 1px 2px rgba(60, 64, 67, 0.3), 0px 1px 3px 1px rgba(60, 64, 67, 0.15);\n",
              "      fill: #174EA6;\n",
              "    }\n",
              "\n",
              "    [theme=dark] .colab-df-convert {\n",
              "      background-color: #3B4455;\n",
              "      fill: #D2E3FC;\n",
              "    }\n",
              "\n",
              "    [theme=dark] .colab-df-convert:hover {\n",
              "      background-color: #434B5C;\n",
              "      box-shadow: 0px 1px 3px 1px rgba(0, 0, 0, 0.15);\n",
              "      filter: drop-shadow(0px 1px 2px rgba(0, 0, 0, 0.3));\n",
              "      fill: #FFFFFF;\n",
              "    }\n",
              "  </style>\n",
              "\n",
              "      <script>\n",
              "        const buttonEl =\n",
              "          document.querySelector('#df-3a055dd7-fdf2-444d-a00b-1f84b9c59d92 button.colab-df-convert');\n",
              "        buttonEl.style.display =\n",
              "          google.colab.kernel.accessAllowed ? 'block' : 'none';\n",
              "\n",
              "        async function convertToInteractive(key) {\n",
              "          const element = document.querySelector('#df-3a055dd7-fdf2-444d-a00b-1f84b9c59d92');\n",
              "          const dataTable =\n",
              "            await google.colab.kernel.invokeFunction('convertToInteractive',\n",
              "                                                     [key], {});\n",
              "          if (!dataTable) return;\n",
              "\n",
              "          const docLinkHtml = 'Like what you see? Visit the ' +\n",
              "            '<a target=\"_blank\" href=https://colab.research.google.com/notebooks/data_table.ipynb>data table notebook</a>'\n",
              "            + ' to learn more about interactive tables.';\n",
              "          element.innerHTML = '';\n",
              "          dataTable['output_type'] = 'display_data';\n",
              "          await google.colab.output.renderOutput(dataTable, element);\n",
              "          const docLink = document.createElement('div');\n",
              "          docLink.innerHTML = docLinkHtml;\n",
              "          element.appendChild(docLink);\n",
              "        }\n",
              "      </script>\n",
              "    </div>\n",
              "  </div>\n",
              "  "
            ]
          },
          "metadata": {},
          "execution_count": 7
        }
      ]
    },
    {
      "cell_type": "markdown",
      "source": [
        "**Updated data type for each field**\n",
        "\n",
        "Since a new column month_year has been added, its data type is also going to be determined below."
      ],
      "metadata": {
        "id": "Eqe1g3OSvltS"
      }
    },
    {
      "cell_type": "code",
      "source": [
        "df.dtypes"
      ],
      "metadata": {
        "colab": {
          "base_uri": "https://localhost:8080/"
        },
        "id": "bsIRpICSwhkl",
        "outputId": "a261b604-8520-4330-c167-d534e3bc6c75"
      },
      "execution_count": null,
      "outputs": [
        {
          "output_type": "execute_result",
          "data": {
            "text/plain": [
              "Name                   object\n",
              "Day                     int64\n",
              "MonthName              object\n",
              "Month                   int64\n",
              "Year                    int64\n",
              "Temperature           float64\n",
              "TemperatureRange       object\n",
              "month_year          period[M]\n",
              "dtype: object"
            ]
          },
          "metadata": {},
          "execution_count": 8
        }
      ]
    },
    {
      "cell_type": "markdown",
      "source": [
        "**Renaming columns**\n",
        "\n",
        "The code below shows how renaming of a column can be done. Here, I have renamed the name to placement in the truck/ store to clearly indicate that this column shows the exact place where the medicine is stored or transported in."
      ],
      "metadata": {
        "id": "RJRLfs17uDQ3"
      }
    },
    {
      "cell_type": "code",
      "source": [
        "df = df.rename(columns={\"Name\": \"Location\" , \"Month\":\"MonthNumber\"})\n",
        "df.head(5)"
      ],
      "metadata": {
        "colab": {
          "base_uri": "https://localhost:8080/",
          "height": 206
        },
        "id": "t5dazxIauFVS",
        "outputId": "6256c3e3-90e1-48f6-d2df-26d62b28633b"
      },
      "execution_count": null,
      "outputs": [
        {
          "output_type": "execute_result",
          "data": {
            "text/plain": [
              "                 Location  Day MonthName  MonthNumber  Year  Temperature  \\\n",
              "0  NTS Truck 1776 ER Back    6   October           10  2018         30.4   \n",
              "1  NTS Truck 1776 ER Back    6   October           10  2018         31.1   \n",
              "2  NTS Truck 1776 ER Back    6   October           10  2018         32.0   \n",
              "3  NTS Truck 1776 ER Back    6   October           10  2018         32.4   \n",
              "4  NTS Truck 1776 ER Back    6   October           10  2018         32.9   \n",
              "\n",
              "  TemperatureRange month_year  \n",
              "0            30-35    2018-10  \n",
              "1            30-35    2018-10  \n",
              "2            30-35    2018-10  \n",
              "3            30-35    2018-10  \n",
              "4            30-35    2018-10  "
            ],
            "text/html": [
              "\n",
              "  <div id=\"df-d2cd99d5-4b7f-4ba5-a22b-ddffed46a17d\">\n",
              "    <div class=\"colab-df-container\">\n",
              "      <div>\n",
              "<style scoped>\n",
              "    .dataframe tbody tr th:only-of-type {\n",
              "        vertical-align: middle;\n",
              "    }\n",
              "\n",
              "    .dataframe tbody tr th {\n",
              "        vertical-align: top;\n",
              "    }\n",
              "\n",
              "    .dataframe thead th {\n",
              "        text-align: right;\n",
              "    }\n",
              "</style>\n",
              "<table border=\"1\" class=\"dataframe\">\n",
              "  <thead>\n",
              "    <tr style=\"text-align: right;\">\n",
              "      <th></th>\n",
              "      <th>Location</th>\n",
              "      <th>Day</th>\n",
              "      <th>MonthName</th>\n",
              "      <th>MonthNumber</th>\n",
              "      <th>Year</th>\n",
              "      <th>Temperature</th>\n",
              "      <th>TemperatureRange</th>\n",
              "      <th>month_year</th>\n",
              "    </tr>\n",
              "  </thead>\n",
              "  <tbody>\n",
              "    <tr>\n",
              "      <th>0</th>\n",
              "      <td>NTS Truck 1776 ER Back</td>\n",
              "      <td>6</td>\n",
              "      <td>October</td>\n",
              "      <td>10</td>\n",
              "      <td>2018</td>\n",
              "      <td>30.4</td>\n",
              "      <td>30-35</td>\n",
              "      <td>2018-10</td>\n",
              "    </tr>\n",
              "    <tr>\n",
              "      <th>1</th>\n",
              "      <td>NTS Truck 1776 ER Back</td>\n",
              "      <td>6</td>\n",
              "      <td>October</td>\n",
              "      <td>10</td>\n",
              "      <td>2018</td>\n",
              "      <td>31.1</td>\n",
              "      <td>30-35</td>\n",
              "      <td>2018-10</td>\n",
              "    </tr>\n",
              "    <tr>\n",
              "      <th>2</th>\n",
              "      <td>NTS Truck 1776 ER Back</td>\n",
              "      <td>6</td>\n",
              "      <td>October</td>\n",
              "      <td>10</td>\n",
              "      <td>2018</td>\n",
              "      <td>32.0</td>\n",
              "      <td>30-35</td>\n",
              "      <td>2018-10</td>\n",
              "    </tr>\n",
              "    <tr>\n",
              "      <th>3</th>\n",
              "      <td>NTS Truck 1776 ER Back</td>\n",
              "      <td>6</td>\n",
              "      <td>October</td>\n",
              "      <td>10</td>\n",
              "      <td>2018</td>\n",
              "      <td>32.4</td>\n",
              "      <td>30-35</td>\n",
              "      <td>2018-10</td>\n",
              "    </tr>\n",
              "    <tr>\n",
              "      <th>4</th>\n",
              "      <td>NTS Truck 1776 ER Back</td>\n",
              "      <td>6</td>\n",
              "      <td>October</td>\n",
              "      <td>10</td>\n",
              "      <td>2018</td>\n",
              "      <td>32.9</td>\n",
              "      <td>30-35</td>\n",
              "      <td>2018-10</td>\n",
              "    </tr>\n",
              "  </tbody>\n",
              "</table>\n",
              "</div>\n",
              "      <button class=\"colab-df-convert\" onclick=\"convertToInteractive('df-d2cd99d5-4b7f-4ba5-a22b-ddffed46a17d')\"\n",
              "              title=\"Convert this dataframe to an interactive table.\"\n",
              "              style=\"display:none;\">\n",
              "        \n",
              "  <svg xmlns=\"http://www.w3.org/2000/svg\" height=\"24px\"viewBox=\"0 0 24 24\"\n",
              "       width=\"24px\">\n",
              "    <path d=\"M0 0h24v24H0V0z\" fill=\"none\"/>\n",
              "    <path d=\"M18.56 5.44l.94 2.06.94-2.06 2.06-.94-2.06-.94-.94-2.06-.94 2.06-2.06.94zm-11 1L8.5 8.5l.94-2.06 2.06-.94-2.06-.94L8.5 2.5l-.94 2.06-2.06.94zm10 10l.94 2.06.94-2.06 2.06-.94-2.06-.94-.94-2.06-.94 2.06-2.06.94z\"/><path d=\"M17.41 7.96l-1.37-1.37c-.4-.4-.92-.59-1.43-.59-.52 0-1.04.2-1.43.59L10.3 9.45l-7.72 7.72c-.78.78-.78 2.05 0 2.83L4 21.41c.39.39.9.59 1.41.59.51 0 1.02-.2 1.41-.59l7.78-7.78 2.81-2.81c.8-.78.8-2.07 0-2.86zM5.41 20L4 18.59l7.72-7.72 1.47 1.35L5.41 20z\"/>\n",
              "  </svg>\n",
              "      </button>\n",
              "      \n",
              "  <style>\n",
              "    .colab-df-container {\n",
              "      display:flex;\n",
              "      flex-wrap:wrap;\n",
              "      gap: 12px;\n",
              "    }\n",
              "\n",
              "    .colab-df-convert {\n",
              "      background-color: #E8F0FE;\n",
              "      border: none;\n",
              "      border-radius: 50%;\n",
              "      cursor: pointer;\n",
              "      display: none;\n",
              "      fill: #1967D2;\n",
              "      height: 32px;\n",
              "      padding: 0 0 0 0;\n",
              "      width: 32px;\n",
              "    }\n",
              "\n",
              "    .colab-df-convert:hover {\n",
              "      background-color: #E2EBFA;\n",
              "      box-shadow: 0px 1px 2px rgba(60, 64, 67, 0.3), 0px 1px 3px 1px rgba(60, 64, 67, 0.15);\n",
              "      fill: #174EA6;\n",
              "    }\n",
              "\n",
              "    [theme=dark] .colab-df-convert {\n",
              "      background-color: #3B4455;\n",
              "      fill: #D2E3FC;\n",
              "    }\n",
              "\n",
              "    [theme=dark] .colab-df-convert:hover {\n",
              "      background-color: #434B5C;\n",
              "      box-shadow: 0px 1px 3px 1px rgba(0, 0, 0, 0.15);\n",
              "      filter: drop-shadow(0px 1px 2px rgba(0, 0, 0, 0.3));\n",
              "      fill: #FFFFFF;\n",
              "    }\n",
              "  </style>\n",
              "\n",
              "      <script>\n",
              "        const buttonEl =\n",
              "          document.querySelector('#df-d2cd99d5-4b7f-4ba5-a22b-ddffed46a17d button.colab-df-convert');\n",
              "        buttonEl.style.display =\n",
              "          google.colab.kernel.accessAllowed ? 'block' : 'none';\n",
              "\n",
              "        async function convertToInteractive(key) {\n",
              "          const element = document.querySelector('#df-d2cd99d5-4b7f-4ba5-a22b-ddffed46a17d');\n",
              "          const dataTable =\n",
              "            await google.colab.kernel.invokeFunction('convertToInteractive',\n",
              "                                                     [key], {});\n",
              "          if (!dataTable) return;\n",
              "\n",
              "          const docLinkHtml = 'Like what you see? Visit the ' +\n",
              "            '<a target=\"_blank\" href=https://colab.research.google.com/notebooks/data_table.ipynb>data table notebook</a>'\n",
              "            + ' to learn more about interactive tables.';\n",
              "          element.innerHTML = '';\n",
              "          dataTable['output_type'] = 'display_data';\n",
              "          await google.colab.output.renderOutput(dataTable, element);\n",
              "          const docLink = document.createElement('div');\n",
              "          docLink.innerHTML = docLinkHtml;\n",
              "          element.appendChild(docLink);\n",
              "        }\n",
              "      </script>\n",
              "    </div>\n",
              "  </div>\n",
              "  "
            ]
          },
          "metadata": {},
          "execution_count": 9
        }
      ]
    },
    {
      "cell_type": "markdown",
      "source": [
        "**Determining total number of trucks monitored**\n",
        "\n",
        "The total number of trucks that were used to carry medicine while their temperature is being monitored can be got as shown below. This is done by calculating the total number of rows in the table."
      ],
      "metadata": {
        "id": "mB7NnzVCxaZT"
      }
    },
    {
      "cell_type": "code",
      "source": [
        "len(df. index)"
      ],
      "metadata": {
        "colab": {
          "base_uri": "https://localhost:8080/"
        },
        "id": "Oj6nzW-pxZA2",
        "outputId": "621ad285-4ded-46eb-a95e-6b9847fcd8f1"
      },
      "execution_count": null,
      "outputs": [
        {
          "output_type": "execute_result",
          "data": {
            "text/plain": [
              "250"
            ]
          },
          "metadata": {},
          "execution_count": 10
        }
      ]
    },
    {
      "cell_type": "markdown",
      "source": [
        "**Shape of the table**\n",
        "\n",
        "The currently available number of rows and columns in the table is got as shown below. The rows are written first followed by the columns."
      ],
      "metadata": {
        "id": "-RH3DYqpxpSc"
      }
    },
    {
      "cell_type": "code",
      "source": [
        "df.shape"
      ],
      "metadata": {
        "colab": {
          "base_uri": "https://localhost:8080/"
        },
        "id": "6y1pe5clxvo1",
        "outputId": "74f764fe-8afd-4a97-87b4-c234c6238366"
      },
      "execution_count": null,
      "outputs": [
        {
          "output_type": "execute_result",
          "data": {
            "text/plain": [
              "(250, 8)"
            ]
          },
          "metadata": {},
          "execution_count": 11
        }
      ]
    },
    {
      "cell_type": "markdown",
      "source": [
        "**Identifying duplicate data**\n",
        "\n",
        "It is often a handy thing to deal with a huge data set as there is always some duplicate data which might be disturbing, so here I remove all the duplicate value from the data-set. For example prior to removing I had 250 rows of data but on identifying the duplicates 55 rows have been confirmed to carry duplicate data."
      ],
      "metadata": {
        "id": "5n5n9ZtPx3ZE"
      }
    },
    {
      "cell_type": "code",
      "source": [
        "duplicate_rows_df = df[df.duplicated()]\n",
        "print(\"number of duplicate rows: \", duplicate_rows_df.shape)"
      ],
      "metadata": {
        "colab": {
          "base_uri": "https://localhost:8080/"
        },
        "id": "SVgsVU7Tx817",
        "outputId": "d53a3e8a-f11d-457b-9c52-ea778f7ce3b1"
      },
      "execution_count": null,
      "outputs": [
        {
          "output_type": "stream",
          "name": "stdout",
          "text": [
            "number of duplicate rows:  (55, 8)\n"
          ]
        }
      ]
    },
    {
      "cell_type": "markdown",
      "source": [
        "**Deleting/ dropping duplicate data**\n",
        "\n",
        "In the code below, the duplicate data is being dropped."
      ],
      "metadata": {
        "id": "VLoBkFPjyCj5"
      }
    },
    {
      "cell_type": "code",
      "source": [
        "df = df.drop_duplicates()\n",
        "df.head(7)"
      ],
      "metadata": {
        "colab": {
          "base_uri": "https://localhost:8080/",
          "height": 269
        },
        "id": "4ki5jUaQyIHQ",
        "outputId": "8f34308a-6d6a-4744-bd74-2db86c2a651c"
      },
      "execution_count": null,
      "outputs": [
        {
          "output_type": "execute_result",
          "data": {
            "text/plain": [
              "                 Location  Day MonthName  MonthNumber  Year  Temperature  \\\n",
              "0  NTS Truck 1776 ER Back    6   October           10  2018         30.4   \n",
              "1  NTS Truck 1776 ER Back    6   October           10  2018         31.1   \n",
              "2  NTS Truck 1776 ER Back    6   October           10  2018         32.0   \n",
              "3  NTS Truck 1776 ER Back    6   October           10  2018         32.4   \n",
              "4  NTS Truck 1776 ER Back    6   October           10  2018         32.9   \n",
              "5  NTS Truck 1776 ER Back    6   October           10  2018         33.6   \n",
              "6  NTS Truck 1776 ER Back    6   October           10  2018         34.1   \n",
              "\n",
              "  TemperatureRange month_year  \n",
              "0            30-35    2018-10  \n",
              "1            30-35    2018-10  \n",
              "2            30-35    2018-10  \n",
              "3            30-35    2018-10  \n",
              "4            30-35    2018-10  \n",
              "5            30-35    2018-10  \n",
              "6            30-35    2018-10  "
            ],
            "text/html": [
              "\n",
              "  <div id=\"df-4edb036e-733c-4107-b410-6c9718ce6632\">\n",
              "    <div class=\"colab-df-container\">\n",
              "      <div>\n",
              "<style scoped>\n",
              "    .dataframe tbody tr th:only-of-type {\n",
              "        vertical-align: middle;\n",
              "    }\n",
              "\n",
              "    .dataframe tbody tr th {\n",
              "        vertical-align: top;\n",
              "    }\n",
              "\n",
              "    .dataframe thead th {\n",
              "        text-align: right;\n",
              "    }\n",
              "</style>\n",
              "<table border=\"1\" class=\"dataframe\">\n",
              "  <thead>\n",
              "    <tr style=\"text-align: right;\">\n",
              "      <th></th>\n",
              "      <th>Location</th>\n",
              "      <th>Day</th>\n",
              "      <th>MonthName</th>\n",
              "      <th>MonthNumber</th>\n",
              "      <th>Year</th>\n",
              "      <th>Temperature</th>\n",
              "      <th>TemperatureRange</th>\n",
              "      <th>month_year</th>\n",
              "    </tr>\n",
              "  </thead>\n",
              "  <tbody>\n",
              "    <tr>\n",
              "      <th>0</th>\n",
              "      <td>NTS Truck 1776 ER Back</td>\n",
              "      <td>6</td>\n",
              "      <td>October</td>\n",
              "      <td>10</td>\n",
              "      <td>2018</td>\n",
              "      <td>30.4</td>\n",
              "      <td>30-35</td>\n",
              "      <td>2018-10</td>\n",
              "    </tr>\n",
              "    <tr>\n",
              "      <th>1</th>\n",
              "      <td>NTS Truck 1776 ER Back</td>\n",
              "      <td>6</td>\n",
              "      <td>October</td>\n",
              "      <td>10</td>\n",
              "      <td>2018</td>\n",
              "      <td>31.1</td>\n",
              "      <td>30-35</td>\n",
              "      <td>2018-10</td>\n",
              "    </tr>\n",
              "    <tr>\n",
              "      <th>2</th>\n",
              "      <td>NTS Truck 1776 ER Back</td>\n",
              "      <td>6</td>\n",
              "      <td>October</td>\n",
              "      <td>10</td>\n",
              "      <td>2018</td>\n",
              "      <td>32.0</td>\n",
              "      <td>30-35</td>\n",
              "      <td>2018-10</td>\n",
              "    </tr>\n",
              "    <tr>\n",
              "      <th>3</th>\n",
              "      <td>NTS Truck 1776 ER Back</td>\n",
              "      <td>6</td>\n",
              "      <td>October</td>\n",
              "      <td>10</td>\n",
              "      <td>2018</td>\n",
              "      <td>32.4</td>\n",
              "      <td>30-35</td>\n",
              "      <td>2018-10</td>\n",
              "    </tr>\n",
              "    <tr>\n",
              "      <th>4</th>\n",
              "      <td>NTS Truck 1776 ER Back</td>\n",
              "      <td>6</td>\n",
              "      <td>October</td>\n",
              "      <td>10</td>\n",
              "      <td>2018</td>\n",
              "      <td>32.9</td>\n",
              "      <td>30-35</td>\n",
              "      <td>2018-10</td>\n",
              "    </tr>\n",
              "    <tr>\n",
              "      <th>5</th>\n",
              "      <td>NTS Truck 1776 ER Back</td>\n",
              "      <td>6</td>\n",
              "      <td>October</td>\n",
              "      <td>10</td>\n",
              "      <td>2018</td>\n",
              "      <td>33.6</td>\n",
              "      <td>30-35</td>\n",
              "      <td>2018-10</td>\n",
              "    </tr>\n",
              "    <tr>\n",
              "      <th>6</th>\n",
              "      <td>NTS Truck 1776 ER Back</td>\n",
              "      <td>6</td>\n",
              "      <td>October</td>\n",
              "      <td>10</td>\n",
              "      <td>2018</td>\n",
              "      <td>34.1</td>\n",
              "      <td>30-35</td>\n",
              "      <td>2018-10</td>\n",
              "    </tr>\n",
              "  </tbody>\n",
              "</table>\n",
              "</div>\n",
              "      <button class=\"colab-df-convert\" onclick=\"convertToInteractive('df-4edb036e-733c-4107-b410-6c9718ce6632')\"\n",
              "              title=\"Convert this dataframe to an interactive table.\"\n",
              "              style=\"display:none;\">\n",
              "        \n",
              "  <svg xmlns=\"http://www.w3.org/2000/svg\" height=\"24px\"viewBox=\"0 0 24 24\"\n",
              "       width=\"24px\">\n",
              "    <path d=\"M0 0h24v24H0V0z\" fill=\"none\"/>\n",
              "    <path d=\"M18.56 5.44l.94 2.06.94-2.06 2.06-.94-2.06-.94-.94-2.06-.94 2.06-2.06.94zm-11 1L8.5 8.5l.94-2.06 2.06-.94-2.06-.94L8.5 2.5l-.94 2.06-2.06.94zm10 10l.94 2.06.94-2.06 2.06-.94-2.06-.94-.94-2.06-.94 2.06-2.06.94z\"/><path d=\"M17.41 7.96l-1.37-1.37c-.4-.4-.92-.59-1.43-.59-.52 0-1.04.2-1.43.59L10.3 9.45l-7.72 7.72c-.78.78-.78 2.05 0 2.83L4 21.41c.39.39.9.59 1.41.59.51 0 1.02-.2 1.41-.59l7.78-7.78 2.81-2.81c.8-.78.8-2.07 0-2.86zM5.41 20L4 18.59l7.72-7.72 1.47 1.35L5.41 20z\"/>\n",
              "  </svg>\n",
              "      </button>\n",
              "      \n",
              "  <style>\n",
              "    .colab-df-container {\n",
              "      display:flex;\n",
              "      flex-wrap:wrap;\n",
              "      gap: 12px;\n",
              "    }\n",
              "\n",
              "    .colab-df-convert {\n",
              "      background-color: #E8F0FE;\n",
              "      border: none;\n",
              "      border-radius: 50%;\n",
              "      cursor: pointer;\n",
              "      display: none;\n",
              "      fill: #1967D2;\n",
              "      height: 32px;\n",
              "      padding: 0 0 0 0;\n",
              "      width: 32px;\n",
              "    }\n",
              "\n",
              "    .colab-df-convert:hover {\n",
              "      background-color: #E2EBFA;\n",
              "      box-shadow: 0px 1px 2px rgba(60, 64, 67, 0.3), 0px 1px 3px 1px rgba(60, 64, 67, 0.15);\n",
              "      fill: #174EA6;\n",
              "    }\n",
              "\n",
              "    [theme=dark] .colab-df-convert {\n",
              "      background-color: #3B4455;\n",
              "      fill: #D2E3FC;\n",
              "    }\n",
              "\n",
              "    [theme=dark] .colab-df-convert:hover {\n",
              "      background-color: #434B5C;\n",
              "      box-shadow: 0px 1px 3px 1px rgba(0, 0, 0, 0.15);\n",
              "      filter: drop-shadow(0px 1px 2px rgba(0, 0, 0, 0.3));\n",
              "      fill: #FFFFFF;\n",
              "    }\n",
              "  </style>\n",
              "\n",
              "      <script>\n",
              "        const buttonEl =\n",
              "          document.querySelector('#df-4edb036e-733c-4107-b410-6c9718ce6632 button.colab-df-convert');\n",
              "        buttonEl.style.display =\n",
              "          google.colab.kernel.accessAllowed ? 'block' : 'none';\n",
              "\n",
              "        async function convertToInteractive(key) {\n",
              "          const element = document.querySelector('#df-4edb036e-733c-4107-b410-6c9718ce6632');\n",
              "          const dataTable =\n",
              "            await google.colab.kernel.invokeFunction('convertToInteractive',\n",
              "                                                     [key], {});\n",
              "          if (!dataTable) return;\n",
              "\n",
              "          const docLinkHtml = 'Like what you see? Visit the ' +\n",
              "            '<a target=\"_blank\" href=https://colab.research.google.com/notebooks/data_table.ipynb>data table notebook</a>'\n",
              "            + ' to learn more about interactive tables.';\n",
              "          element.innerHTML = '';\n",
              "          dataTable['output_type'] = 'display_data';\n",
              "          await google.colab.output.renderOutput(dataTable, element);\n",
              "          const docLink = document.createElement('div');\n",
              "          docLink.innerHTML = docLinkHtml;\n",
              "          element.appendChild(docLink);\n",
              "        }\n",
              "      </script>\n",
              "    </div>\n",
              "  </div>\n",
              "  "
            ]
          },
          "metadata": {},
          "execution_count": 13
        }
      ]
    },
    {
      "cell_type": "markdown",
      "source": [
        "**New data table size**\n",
        "\n",
        "The new size of the table is computed below and found to have 195 rows from the previously calculated 250 rows."
      ],
      "metadata": {
        "id": "aOSi_UnqyP44"
      }
    },
    {
      "cell_type": "code",
      "source": [
        "df.shape #New size of the data table."
      ],
      "metadata": {
        "colab": {
          "base_uri": "https://localhost:8080/"
        },
        "id": "3Md_FnYNyVna",
        "outputId": "b8fc1255-069d-47ac-d5ac-2529e849c604"
      },
      "execution_count": null,
      "outputs": [
        {
          "output_type": "execute_result",
          "data": {
            "text/plain": [
              "(195, 8)"
            ]
          },
          "metadata": {},
          "execution_count": 14
        }
      ]
    },
    {
      "cell_type": "markdown",
      "source": [
        "**Testing for null values**\n",
        "\n",
        "The missing/ null values are detected below and they are to be dropped if found. This is because these could provide inconsistencies when analyzing the data."
      ],
      "metadata": {
        "id": "WyKiPsUnydVg"
      }
    },
    {
      "cell_type": "code",
      "source": [
        "print(df.isnull().sum())"
      ],
      "metadata": {
        "colab": {
          "base_uri": "https://localhost:8080/"
        },
        "id": "QppT1joFyoAJ",
        "outputId": "3ed78aa1-590a-4e19-f030-c062b690bcfd"
      },
      "execution_count": null,
      "outputs": [
        {
          "output_type": "stream",
          "name": "stdout",
          "text": [
            "Location            0\n",
            "Day                 0\n",
            "MonthName           0\n",
            "MonthNumber         0\n",
            "Year                0\n",
            "Temperature         0\n",
            "TemperatureRange    0\n",
            "month_year          0\n",
            "dtype: int64\n"
          ]
        }
      ]
    },
    {
      "cell_type": "markdown",
      "source": [
        "The result above shows that none of the columns have missing/ null values."
      ],
      "metadata": {
        "id": "3adMhSMPyvJY"
      }
    },
    {
      "cell_type": "markdown",
      "source": [
        "**Detecting outliers**\n",
        "\n",
        "An outlier is a point or set of points that are different from other points. Sometimes they can be very high or very low. It is often good to detect and remove the outliers because they are one of the primary reasons for resulting in a less accurate model. Often outliers can be seen with visualizations using a box plot. Shown below is the box plot for Temperature. Herein all the plots, you can find some points are outside the box they are none other than outliers."
      ],
      "metadata": {
        "id": "Zoq4ouwNy03A"
      }
    },
    {
      "cell_type": "code",
      "source": [
        "sns.boxplot(x=df['Temperature'])"
      ],
      "metadata": {
        "colab": {
          "base_uri": "https://localhost:8080/",
          "height": 302
        },
        "id": "sx8rK89yy6e5",
        "outputId": "b5d8b349-f829-4af8-8580-ca2fa88076d4"
      },
      "execution_count": null,
      "outputs": [
        {
          "output_type": "execute_result",
          "data": {
            "text/plain": [
              "<matplotlib.axes._subplots.AxesSubplot at 0x7fb9812926d0>"
            ]
          },
          "metadata": {},
          "execution_count": 16
        },
        {
          "output_type": "display_data",
          "data": {
            "text/plain": [
              "<Figure size 432x288 with 1 Axes>"
            ],
            "image/png": "[encoded data removed]"
          },
          "metadata": {}
        }
      ]
    },
    {
      "cell_type": "markdown",
      "source": [
        "The above box plot shows that there are no outliers."
      ],
      "metadata": {
        "id": "oEmRcPwt0Dre"
      }
    },
    {
      "cell_type": "markdown",
      "source": [
        "**Quartiles**\n",
        "\n",
        "Calculating the upper and lower quartiles and the interquartile range (used in the box plot above) below,"
      ],
      "metadata": {
        "id": "m7jh0hh50FHk"
      }
    },
    {
      "cell_type": "code",
      "source": [
        "Q1 = df.quantile(0.25)\n",
        "Q3 = df.quantile(0.75)\n",
        "IQR = Q3 - Q1\n",
        "print(IQR,  Q3,  Q1)"
      ],
      "metadata": {
        "colab": {
          "base_uri": "https://localhost:8080/"
        },
        "id": "_gwwp1QB0QiU",
        "outputId": "e82d5d6d-da7d-4b6b-8e4d-34f5e8f14c91"
      },
      "execution_count": null,
      "outputs": [
        {
          "output_type": "stream",
          "name": "stdout",
          "text": [
            "Day            8.0\n",
            "MonthNumber    1.0\n",
            "Year           1.0\n",
            "Temperature    8.0\n",
            "dtype: float64 Day              14.00\n",
            "MonthNumber      10.00\n",
            "Year           2019.00\n",
            "Temperature      42.55\n",
            "Name: 0.75, dtype: float64 Day               6.00\n",
            "MonthNumber       9.00\n",
            "Year           2018.00\n",
            "Temperature      34.55\n",
            "Name: 0.25, dtype: float64\n"
          ]
        }
      ]
    },
    {
      "cell_type": "markdown",
      "source": [
        "**Heat Maps**\n",
        "\n",
        "Heat Maps is a type of plot which is necessary when we need to find the dependent variables. It is used when one wants to find the relationship between the features ."
      ],
      "metadata": {
        "id": "qQntP5A_0WEZ"
      }
    },
    {
      "cell_type": "code",
      "source": [
        "plt.figure(figsize=(10,5))\n",
        "c= df.corr()\n",
        "sns.heatmap(c,cmap=\"BrBG\",annot=True)\n",
        "c"
      ],
      "metadata": {
        "colab": {
          "base_uri": "https://localhost:8080/",
          "height": 484
        },
        "id": "iQwNpt2a0dSI",
        "outputId": "5840c840-8f81-41b0-f232-01245eed5392"
      },
      "execution_count": null,
      "outputs": [
        {
          "output_type": "execute_result",
          "data": {
            "text/plain": [
              "                  Day  MonthNumber      Year  Temperature\n",
              "Day          1.000000     0.575108 -0.218577     0.218501\n",
              "MonthNumber  0.575108     1.000000 -0.530966    -0.023807\n",
              "Year        -0.218577    -0.530966  1.000000    -0.576585\n",
              "Temperature  0.218501    -0.023807 -0.576585     1.000000"
            ],
            "text/html": [
              "\n",
              "  <div id=\"df-ccfd89b6-1b1c-4a3d-8a48-c524286937c8\">\n",
              "    <div class=\"colab-df-container\">\n",
              "      <div>\n",
              "<style scoped>\n",
              "    .dataframe tbody tr th:only-of-type {\n",
              "        vertical-align: middle;\n",
              "    }\n",
              "\n",
              "    .dataframe tbody tr th {\n",
              "        vertical-align: top;\n",
              "    }\n",
              "\n",
              "    .dataframe thead th {\n",
              "        text-align: right;\n",
              "    }\n",
              "</style>\n",
              "<table border=\"1\" class=\"dataframe\">\n",
              "  <thead>\n",
              "    <tr style=\"text-align: right;\">\n",
              "      <th></th>\n",
              "      <th>Day</th>\n",
              "      <th>MonthNumber</th>\n",
              "      <th>Year</th>\n",
              "      <th>Temperature</th>\n",
              "    </tr>\n",
              "  </thead>\n",
              "  <tbody>\n",
              "    <tr>\n",
              "      <th>Day</th>\n",
              "      <td>1.000000</td>\n",
              "      <td>0.575108</td>\n",
              "      <td>-0.218577</td>\n",
              "      <td>0.218501</td>\n",
              "    </tr>\n",
              "    <tr>\n",
              "      <th>MonthNumber</th>\n",
              "      <td>0.575108</td>\n",
              "      <td>1.000000</td>\n",
              "      <td>-0.530966</td>\n",
              "      <td>-0.023807</td>\n",
              "    </tr>\n",
              "    <tr>\n",
              "      <th>Year</th>\n",
              "      <td>-0.218577</td>\n",
              "      <td>-0.530966</td>\n",
              "      <td>1.000000</td>\n",
              "      <td>-0.576585</td>\n",
              "    </tr>\n",
              "    <tr>\n",
              "      <th>Temperature</th>\n",
              "      <td>0.218501</td>\n",
              "      <td>-0.023807</td>\n",
              "      <td>-0.576585</td>\n",
              "      <td>1.000000</td>\n",
              "    </tr>\n",
              "  </tbody>\n",
              "</table>\n",
              "</div>\n",
              "      <button class=\"colab-df-convert\" onclick=\"convertToInteractive('df-ccfd89b6-1b1c-4a3d-8a48-c524286937c8')\"\n",
              "              title=\"Convert this dataframe to an interactive table.\"\n",
              "              style=\"display:none;\">\n",
              "        \n",
              "  <svg xmlns=\"http://www.w3.org/2000/svg\" height=\"24px\"viewBox=\"0 0 24 24\"\n",
              "       width=\"24px\">\n",
              "    <path d=\"M0 0h24v24H0V0z\" fill=\"none\"/>\n",
              "    <path d=\"M18.56 5.44l.94 2.06.94-2.06 2.06-.94-2.06-.94-.94-2.06-.94 2.06-2.06.94zm-11 1L8.5 8.5l.94-2.06 2.06-.94-2.06-.94L8.5 2.5l-.94 2.06-2.06.94zm10 10l.94 2.06.94-2.06 2.06-.94-2.06-.94-.94-2.06-.94 2.06-2.06.94z\"/><path d=\"M17.41 7.96l-1.37-1.37c-.4-.4-.92-.59-1.43-.59-.52 0-1.04.2-1.43.59L10.3 9.45l-7.72 7.72c-.78.78-.78 2.05 0 2.83L4 21.41c.39.39.9.59 1.41.59.51 0 1.02-.2 1.41-.59l7.78-7.78 2.81-2.81c.8-.78.8-2.07 0-2.86zM5.41 20L4 18.59l7.72-7.72 1.47 1.35L5.41 20z\"/>\n",
              "  </svg>\n",
              "      </button>\n",
              "      \n",
              "  <style>\n",
              "    .colab-df-container {\n",
              "      display:flex;\n",
              "      flex-wrap:wrap;\n",
              "      gap: 12px;\n",
              "    }\n",
              "\n",
              "    .colab-df-convert {\n",
              "      background-color: #E8F0FE;\n",
              "      border: none;\n",
              "      border-radius: 50%;\n",
              "      cursor: pointer;\n",
              "      display: none;\n",
              "      fill: #1967D2;\n",
              "      height: 32px;\n",
              "      padding: 0 0 0 0;\n",
              "      width: 32px;\n",
              "    }\n",
              "\n",
              "    .colab-df-convert:hover {\n",
              "      background-color: #E2EBFA;\n",
              "      box-shadow: 0px 1px 2px rgba(60, 64, 67, 0.3), 0px 1px 3px 1px rgba(60, 64, 67, 0.15);\n",
              "      fill: #174EA6;\n",
              "    }\n",
              "\n",
              "    [theme=dark] .colab-df-convert {\n",
              "      background-color: #3B4455;\n",
              "      fill: #D2E3FC;\n",
              "    }\n",
              "\n",
              "    [theme=dark] .colab-df-convert:hover {\n",
              "      background-color: #434B5C;\n",
              "      box-shadow: 0px 1px 3px 1px rgba(0, 0, 0, 0.15);\n",
              "      filter: drop-shadow(0px 1px 2px rgba(0, 0, 0, 0.3));\n",
              "      fill: #FFFFFF;\n",
              "    }\n",
              "  </style>\n",
              "\n",
              "      <script>\n",
              "        const buttonEl =\n",
              "          document.querySelector('#df-ccfd89b6-1b1c-4a3d-8a48-c524286937c8 button.colab-df-convert');\n",
              "        buttonEl.style.display =\n",
              "          google.colab.kernel.accessAllowed ? 'block' : 'none';\n",
              "\n",
              "        async function convertToInteractive(key) {\n",
              "          const element = document.querySelector('#df-ccfd89b6-1b1c-4a3d-8a48-c524286937c8');\n",
              "          const dataTable =\n",
              "            await google.colab.kernel.invokeFunction('convertToInteractive',\n",
              "                                                     [key], {});\n",
              "          if (!dataTable) return;\n",
              "\n",
              "          const docLinkHtml = 'Like what you see? Visit the ' +\n",
              "            '<a target=\"_blank\" href=https://colab.research.google.com/notebooks/data_table.ipynb>data table notebook</a>'\n",
              "            + ' to learn more about interactive tables.';\n",
              "          element.innerHTML = '';\n",
              "          dataTable['output_type'] = 'display_data';\n",
              "          await google.colab.output.renderOutput(dataTable, element);\n",
              "          const docLink = document.createElement('div');\n",
              "          docLink.innerHTML = docLinkHtml;\n",
              "          element.appendChild(docLink);\n",
              "        }\n",
              "      </script>\n",
              "    </div>\n",
              "  </div>\n",
              "  "
            ]
          },
          "metadata": {},
          "execution_count": 18
        },
        {
          "output_type": "display_data",
          "data": {
            "text/plain": [
              "<Figure size 720x360 with 2 Axes>"
            ],
            "image/png": "[encoded data removed]"
          },
          "metadata": {}
        }
      ]
    },
    {
      "cell_type": "markdown",
      "source": [
        "**Vertical bar graph**\n",
        "\n",
        "A vertical bar graph of Temperature against the MonthName is given below in determination of temperature variation with the months. It is noticed that temperature was highest in September and lowest in November."
      ],
      "metadata": {
        "id": "_KVqqPbx0mK-"
      }
    },
    {
      "cell_type": "code",
      "source": [
        "df.MonthName.value_counts().nlargest(40).plot(kind='bar', figsize=(10,5)) # 'bar' gives you a vertical bar graph\n",
        "plt.title(\"Temperature recorded per month\") # Title of the graph\n",
        "plt.ylabel('Temperature') # Variable on y axis\n",
        "plt.xlabel('MonthName'); # Variable on x axis"
      ],
      "metadata": {
        "colab": {
          "base_uri": "https://localhost:8080/",
          "height": 407
        },
        "id": "OJRjI5k30uML",
        "outputId": "384a0af6-8e16-4836-dccc-146a029f2f2c"
      },
      "execution_count": null,
      "outputs": [
        {
          "output_type": "display_data",
          "data": {
            "text/plain": [
              "<Figure size 720x360 with 1 Axes>"
            ],
            "image/png": "[encoded data removed]"
          },
          "metadata": {}
        }
      ]
    },
    {
      "cell_type": "markdown",
      "source": [
        "A vertical bar graph of Temperature against Day is plotted. It is noticed that the highest temperature recording was taken on day 12. "
      ],
      "metadata": {
        "id": "T0EhILgo65xD"
      }
    },
    {
      "cell_type": "code",
      "source": [
        "df.Day.value_counts().nlargest(40).plot(kind='bar', figsize=(10,5)) # 'bar' gives you a vertical bar graph\n",
        "plt.title(\"Temperature recorded per day\") # Title of the graph\n",
        "plt.ylabel('Temperature') # Variable on y axis\n",
        "plt.xlabel('Day'); # Variable on x axis"
      ],
      "metadata": {
        "colab": {
          "base_uri": "https://localhost:8080/",
          "height": 359
        },
        "id": "a3TK7W2n6sRx",
        "outputId": "27b78a35-9170-4734-fe05-f736cb110ecd"
      },
      "execution_count": null,
      "outputs": [
        {
          "output_type": "display_data",
          "data": {
            "text/plain": [
              "<Figure size 720x360 with 1 Axes>"
            ],
            "image/png": "[encoded data removed]"
          },
          "metadata": {}
        }
      ]
    },
    {
      "cell_type": "markdown",
      "source": [
        "A vertical bar graph of temperature against Year is plotted below. It is seen that the year 2018 has the highest temperature recording."
      ],
      "metadata": {
        "id": "O4xOSSeM8EHz"
      }
    },
    {
      "cell_type": "code",
      "source": [
        "df.Year.value_counts().nlargest(40).plot(kind='bar', figsize=(10,5)) # 'bar' gives you a vertical bar graph\n",
        "plt.title(\"Temperature recorded per year\") # Title of the graph\n",
        "plt.ylabel('Temperature') # Variable on y axis\n",
        "plt.xlabel('Year'); # Variable on x axis"
      ],
      "metadata": {
        "colab": {
          "base_uri": "https://localhost:8080/",
          "height": 373
        },
        "id": "5rOzO-nt724w",
        "outputId": "7b41f1bd-a18e-40aa-ec3e-b3851953e4fe"
      },
      "execution_count": null,
      "outputs": [
        {
          "output_type": "display_data",
          "data": {
            "text/plain": [
              "<Figure size 720x360 with 1 Axes>"
            ],
            "image/png": "[encoded data removed]"
          },
          "metadata": {}
        }
      ]
    },
    {
      "cell_type": "markdown",
      "source": [
        "A vertical bar graph of Temperature against TemperatureRange is plotted below. It shows that most temperatures recorded lie in the range 40-45 while the range 35-40 has the least temperature recordings."
      ],
      "metadata": {
        "id": "anrEmdur8-j0"
      }
    },
    {
      "cell_type": "code",
      "source": [
        "df.TemperatureRange.value_counts().nlargest(40).plot(kind='bar', figsize=(10,5)) # 'bar' gives you a vertical bar graph\n",
        "plt.title(\"Temperature recorded against TemperatureRange\") # Title of the graph\n",
        "plt.ylabel('Temperature') # Variable on y axis\n",
        "plt.xlabel('TemperatureRange'); # Variable on x axis"
      ],
      "metadata": {
        "colab": {
          "base_uri": "https://localhost:8080/",
          "height": 377
        },
        "id": "IbAFRL2B8n57",
        "outputId": "91fff55c-d6ed-43f6-939c-22b6feb4e720"
      },
      "execution_count": null,
      "outputs": [
        {
          "output_type": "display_data",
          "data": {
            "text/plain": [
              "<Figure size 720x360 with 1 Axes>"
            ],
            "image/png": "[encoded data removed]"
          },
          "metadata": {}
        }
      ]
    },
    {
      "cell_type": "markdown",
      "source": [
        "**Horizontal bar graph**\n",
        "\n",
        "A horizontal bar graph of Temperature against MonthName is given below."
      ],
      "metadata": {
        "id": "AZv3doFj03ab"
      }
    },
    {
      "cell_type": "code",
      "source": [
        "df.MonthName.value_counts().nlargest(40).plot(kind='barh', figsize=(10,5)) # 'barh' gives a horizontal bar graph\n",
        "plt.title(\"Temperature recorded in the different months\") # The title of the graph\n",
        "plt.ylabel('Temperature') # Variable on the y axis\n",
        "plt.xlabel('MonthName'); # Variable on the x axis"
      ],
      "metadata": {
        "colab": {
          "base_uri": "https://localhost:8080/",
          "height": 355
        },
        "id": "0CNJBpx409NS",
        "outputId": "37487924-3356-401e-f4ee-20ca4ed3f9f9"
      },
      "execution_count": null,
      "outputs": [
        {
          "output_type": "display_data",
          "data": {
            "text/plain": [
              "<Figure size 720x360 with 1 Axes>"
            ],
            "image/png": "[encoded data removed]"
          },
          "metadata": {}
        }
      ]
    },
    {
      "cell_type": "markdown",
      "source": [
        "This shows that most of the temperature readings were taken in the month of September while the least readings were taken in the month of November."
      ],
      "metadata": {
        "id": "Lin4BYuOWwPx"
      }
    },
    {
      "cell_type": "markdown",
      "source": [
        "**Scatterplot**\n",
        "\n",
        "We generally use scatter plots to find the correlation between two variables. Here the scatter plots are plotted between Temperature and Day and we can see the plot below. With the plot given below, we can easily draw a trend line. These features provide a good scattering of points. This scatter plot shows us how many times temperature was measured on certain days."
      ],
      "metadata": {
        "id": "45e_o0ix1L1M"
      }
    },
    {
      "cell_type": "code",
      "source": [
        "fig, ax = plt.subplots(figsize=(10,6))\n",
        "ax.scatter(df['Temperature'], df['Day'])\n",
        "ax.set_xlabel('Temperature')\n",
        "ax.set_ylabel('Day')\n",
        "plt.show()"
      ],
      "metadata": {
        "colab": {
          "base_uri": "https://localhost:8080/",
          "height": 394
        },
        "id": "cNbFFZK61OmV",
        "outputId": "f8bd135e-4d88-4d90-fb5d-5c428b34f250"
      },
      "execution_count": null,
      "outputs": [
        {
          "output_type": "display_data",
          "data": {
            "text/plain": [
              "<Figure size 720x432 with 1 Axes>"
            ],
            "image/png": "[encoded data removed]"
          },
          "metadata": {}
        }
      ]
    },
    {
      "cell_type": "markdown",
      "source": [
        "A scatter plot of MonthNumber against Temperature is drawn below . It shows that the highest temperatures and most of the Temperature readings were taken in the 9th month--September."
      ],
      "metadata": {
        "id": "w6tHLwmn-k4k"
      }
    },
    {
      "cell_type": "code",
      "source": [
        "fig, ax = plt.subplots(figsize=(10,6))\n",
        "ax.scatter(df['Temperature'], df['MonthNumber'])\n",
        "ax.set_xlabel('Temperature')\n",
        "ax.set_ylabel('MonthNumber')\n",
        "plt.show()"
      ],
      "metadata": {
        "colab": {
          "base_uri": "https://localhost:8080/",
          "height": 394
        },
        "id": "TzRkPs4w9srI",
        "outputId": "72ddca59-6d8d-4ccd-9f33-55b0338db675"
      },
      "execution_count": null,
      "outputs": [
        {
          "output_type": "display_data",
          "data": {
            "text/plain": [
              "<Figure size 720x432 with 1 Axes>"
            ],
            "image/png": "[encoded data removed]"
          },
          "metadata": {}
        }
      ]
    },
    {
      "cell_type": "markdown",
      "source": [
        "A scatter plot of TemperatureRange against Temperature is drawn below . It shows that the highest temperatures and most of the Temperature readings taken lie in the range 40-45 while the lowest temperatures lie in the range 30-35."
      ],
      "metadata": {
        "id": "i6IAneYO_QXN"
      }
    },
    {
      "cell_type": "code",
      "source": [
        "fig, ax = plt.subplots(figsize=(10,6))\n",
        "ax.scatter(df['Temperature'], df['TemperatureRange'])\n",
        "ax.set_xlabel('Temperature')\n",
        "ax.set_ylabel('TemperatureRange')\n",
        "plt.show()"
      ],
      "metadata": {
        "colab": {
          "base_uri": "https://localhost:8080/",
          "height": 394
        },
        "id": "4nLdjjs7_DBb",
        "outputId": "6887b565-24ea-4702-9c5d-5a40a2c143c4"
      },
      "execution_count": null,
      "outputs": [
        {
          "output_type": "display_data",
          "data": {
            "text/plain": [
              "<Figure size 720x432 with 1 Axes>"
            ],
            "image/png": "[encoded data removed]"
          },
          "metadata": {}
        }
      ]
    },
    {
      "cell_type": "markdown",
      "source": [
        "**Statistics**\n",
        "\n",
        "Some statistics were performed on the temperature data like mean, sum, maximum, minimum, median, standard deviation, variance as shown below."
      ],
      "metadata": {
        "id": "nP-JfUpzrfQq"
      }
    },
    {
      "cell_type": "code",
      "source": [
        "# block 1 - simple stats\n",
        "mean = df['Temperature'].mean()\n",
        "sum = df['Temperature'].sum()\n",
        "max = df['Temperature'].max()\n",
        "min = df['Temperature'].min()\n",
        "count = df['Temperature'].count()\n",
        "median = df['Temperature'].median() \n",
        "std = df['Temperature'].std() \n",
        "var = df['Temperature'].var\n",
        "# print block 1\n",
        "print ('Mean temperature: ' + str(mean))\n",
        "print ('Sum of temperatures: ' + str(sum))\n",
        "print ('Max temperature: ' + str(max))\n",
        "print ('Min temperaturee: ' + str(min))\n",
        "print ('Count of temperatures: ' + str(count))\n",
        "print ('Median temperature: ' + str(median))\n",
        "print ('Std of temperatures: ' + str(std))\n",
        "print ('Var of temperatures: ' + str(var))\n"
      ],
      "metadata": {
        "colab": {
          "base_uri": "https://localhost:8080/"
        },
        "id": "MpbO2b6hqEJp",
        "outputId": "6bb794e1-f24f-490f-ca55-568de701bc61"
      },
      "execution_count": null,
      "outputs": [
        {
          "output_type": "stream",
          "name": "stdout",
          "text": [
            "Mean temperature: 38.73717948717946\n",
            "Sum of temperatures: 7553.75\n",
            "Max temperature: 44.9\n",
            "Min temperaturee: 30.03\n",
            "Count of temperatures: 195\n",
            "Median temperature: 40.7\n",
            "Std of temperatures: 4.547004649442453\n",
            "Var of temperatures: <bound method NDFrame._add_numeric_operations.<locals>.var of 0      30.40\n",
            "1      31.10\n",
            "2      32.00\n",
            "3      32.40\n",
            "4      32.90\n",
            "       ...  \n",
            "245    30.65\n",
            "246    33.78\n",
            "247    34.21\n",
            "248    30.67\n",
            "249    33.22\n",
            "Name: Temperature, Length: 195, dtype: float64>\n"
          ]
        }
      ]
    },
    {
      "cell_type": "markdown",
      "source": [
        "**Pie chart**\n",
        "\n",
        "A pie chart is a graphical representation of the different sectors or percentages occupied by something.\n",
        "\n",
        "Given below is a pie chart showing the diferent temperature ranges."
      ],
      "metadata": {
        "id": "FQAbJqH45887"
      }
    },
    {
      "cell_type": "code",
      "source": [
        "df['TemperatureRange'].value_counts().plot(kind='pie', figsize=(6,6))\n",
        "plt.title(\"A pie chart showing the section of the different temperature ranges\") # The title of the pie chart"
      ],
      "metadata": {
        "colab": {
          "base_uri": "https://localhost:8080/",
          "height": 390
        },
        "id": "lI7Rd1pwTXYd",
        "outputId": "0493168c-02d7-45ac-fb25-e234b58f5aa7"
      },
      "execution_count": null,
      "outputs": [
        {
          "output_type": "execute_result",
          "data": {
            "text/plain": [
              "Text(0.5, 1.0, 'A pie chart showing the section of the different temperature ranges')"
            ]
          },
          "metadata": {},
          "execution_count": 28
        },
        {
          "output_type": "display_data",
          "data": {
            "text/plain": [
              "<Figure size 432x432 with 1 Axes>"
            ],
            "image/png": "[encoded data removed]"
          },
          "metadata": {}
        }
      ]
    },
    {
      "cell_type": "markdown",
      "source": [
        "Given below is a pie chart showing the temperature recorded in each year."
      ],
      "metadata": {
        "id": "uqCGyt6t68WN"
      }
    },
    {
      "cell_type": "code",
      "source": [
        "df['Year'].value_counts().plot(kind='pie', figsize=(6,6))\n",
        "plt.title(\"A pie chart showing yearly temperature\") # The title of the pie chart"
      ],
      "metadata": {
        "colab": {
          "base_uri": "https://localhost:8080/",
          "height": 390
        },
        "id": "7BBzOU0JVmQY",
        "outputId": "6f9f847a-70d9-49cc-d93b-024d54d7387c"
      },
      "execution_count": null,
      "outputs": [
        {
          "output_type": "execute_result",
          "data": {
            "text/plain": [
              "Text(0.5, 1.0, 'A pie chart showing yearly temperature')"
            ]
          },
          "metadata": {},
          "execution_count": 29
        },
        {
          "output_type": "display_data",
          "data": {
            "text/plain": [
              "<Figure size 432x432 with 1 Axes>"
            ],
            "image/png": "[encoded data removed]"
          },
          "metadata": {}
        }
      ]
    },
    {
      "cell_type": "markdown",
      "source": [
        "Given below is a pie chart showing the temperature recorded on each day.."
      ],
      "metadata": {
        "id": "0RI0DJXf7j0G"
      }
    },
    {
      "cell_type": "code",
      "source": [
        "df['Day'].value_counts().plot(kind='pie', figsize=(6,6))\n",
        "plt.title(\"A pie chart showing the temperature recorded per day\") # The title of the pie chart"
      ],
      "metadata": {
        "colab": {
          "base_uri": "https://localhost:8080/",
          "height": 390
        },
        "id": "SFFfSnXrVtzP",
        "outputId": "8ec53e06-f404-410d-8840-dcc131a1dc1b"
      },
      "execution_count": null,
      "outputs": [
        {
          "output_type": "execute_result",
          "data": {
            "text/plain": [
              "Text(0.5, 1.0, 'A pie chart showing the temperature recorded per day')"
            ]
          },
          "metadata": {},
          "execution_count": 30
        },
        {
          "output_type": "display_data",
          "data": {
            "text/plain": [
              "<Figure size 432x432 with 1 Axes>"
            ],
            "image/png": "[encoded data removed]"
          },
          "metadata": {}
        }
      ]
    },
    {
      "cell_type": "markdown",
      "source": [
        "Given below is a pie chart showing the temperature recorded in each month."
      ],
      "metadata": {
        "id": "lmZt9X6071ET"
      }
    },
    {
      "cell_type": "code",
      "source": [
        "df['MonthName'].value_counts().plot(kind='pie', figsize=(6,6))\n",
        "plt.title(\"A pie chart showing the section of temperature recordings per month\") # The title of the pie chart"
      ],
      "metadata": {
        "colab": {
          "base_uri": "https://localhost:8080/",
          "height": 390
        },
        "id": "xsyLZ6A2V6GG",
        "outputId": "dfb34fb1-4a97-41a8-d1f7-c2d45aa0fd70"
      },
      "execution_count": null,
      "outputs": [
        {
          "output_type": "execute_result",
          "data": {
            "text/plain": [
              "Text(0.5, 1.0, 'A pie chart showing the section of temperature recordings per month')"
            ]
          },
          "metadata": {},
          "execution_count": 31
        },
        {
          "output_type": "display_data",
          "data": {
            "text/plain": [
              "<Figure size 432x432 with 1 Axes>"
            ],
            "image/png": "[encoded data removed]"
          },
          "metadata": {}
        }
      ]
    },
    {
      "cell_type": "markdown",
      "source": [
        "**Line graph**\n",
        "\n",
        "A line graph can be used to show the trend in a variable.\n",
        "\n",
        "Given below is a line graph of TemperatureRanges."
      ],
      "metadata": {
        "id": "ytM2RIE48ePF"
      }
    },
    {
      "cell_type": "code",
      "source": [
        "plt.plot(df['TemperatureRange'],df['Temperature'])\n",
        "plt.title(\"A line graph showing the trend in temperature variation across the TemperatureRanges\") # The title of the line graph\n",
        "plt.xlabel('TemperatureRange')\n",
        "plt.ylabel('Temperature')\n",
        "plt.show() \n"
      ],
      "metadata": {
        "colab": {
          "base_uri": "https://localhost:8080/",
          "height": 301
        },
        "id": "IcC5aeeqX_si",
        "outputId": "58e58086-4a91-4a9e-8b3b-df1f85712b80"
      },
      "execution_count": null,
      "outputs": [
        {
          "output_type": "display_data",
          "data": {
            "text/plain": [
              "<Figure size 432x288 with 1 Axes>"
            ],
            "image/png": "[encoded data removed]"
          },
          "metadata": {}
        }
      ]
    },
    {
      "cell_type": "markdown",
      "source": [
        "Given below is a line graph showing Temperature variation on different days."
      ],
      "metadata": {
        "id": "CXPmpizp8__y"
      }
    },
    {
      "cell_type": "code",
      "source": [
        "plt.plot(df['Day'],df['Temperature'])\n",
        "plt.title('A line graph showing daily temperature distribution') # The title of the line graph\n",
        "plt.xlabel('Day')\n",
        "plt.ylabel('Temperature')\n",
        "plt.show() "
      ],
      "metadata": {
        "colab": {
          "base_uri": "https://localhost:8080/",
          "height": 301
        },
        "id": "y8u21z72YU91",
        "outputId": "b204eb2b-4ea5-4c44-a1cb-f4f72c4ab807"
      },
      "execution_count": null,
      "outputs": [
        {
          "output_type": "display_data",
          "data": {
            "text/plain": [
              "<Figure size 432x288 with 1 Axes>"
            ],
            "image/png": "[encoded data removed]"
          },
          "metadata": {}
        }
      ]
    },
    {
      "cell_type": "markdown",
      "source": [
        "Given below is a line graph showing Temperature variation with the months."
      ],
      "metadata": {
        "id": "MtqxY-9QfzKc"
      }
    },
    {
      "cell_type": "code",
      "source": [
        "plt.plot(df['MonthNumber'],df['Temperature'])\n",
        "plt.title('A line graph showing monthly temperature distribution') # The title of the line graph\n",
        "plt.xlabel('MonthNumber')\n",
        "plt.ylabel('Temperature')\n",
        "plt.show()"
      ],
      "metadata": {
        "colab": {
          "base_uri": "https://localhost:8080/",
          "height": 301
        },
        "id": "DhZt2LeDB2OY",
        "outputId": "028f1d7d-e592-45fe-e6af-0e44f095fcda"
      },
      "execution_count": null,
      "outputs": [
        {
          "output_type": "display_data",
          "data": {
            "text/plain": [
              "<Figure size 432x288 with 1 Axes>"
            ],
            "image/png": "[encoded data removed]"
          },
          "metadata": {}
        }
      ]
    },
    {
      "cell_type": "markdown",
      "source": [
        "**Histogram**\n",
        "\n",
        "A histogram involves representation of data through use of frequency. The frequency is plotted against class boundaries.\n",
        "\n",
        "The histogram for temperature is shown below."
      ],
      "metadata": {
        "id": "kHCT7GtQ98FD"
      }
    },
    {
      "cell_type": "code",
      "source": [
        "df['Temperature'].plot(kind='hist', bins=50);\n",
        "plt.title(\"A histogram showing the rate of occurance of the temperatures recorded.\") # The title of the histogram"
      ],
      "metadata": {
        "colab": {
          "base_uri": "https://localhost:8080/",
          "height": 301
        },
        "id": "9vNLKpatYl06",
        "outputId": "a25e7158-3fb7-4e23-e928-66ebf2424e65"
      },
      "execution_count": null,
      "outputs": [
        {
          "output_type": "execute_result",
          "data": {
            "text/plain": [
              "Text(0.5, 1.0, 'A histogram showing the rate of occurance of the temperatures recorded.')"
            ]
          },
          "metadata": {},
          "execution_count": 34
        },
        {
          "output_type": "display_data",
          "data": {
            "text/plain": [
              "<Figure size 432x288 with 1 Axes>"
            ],
            "image/png": "[encoded data removed]"
          },
          "metadata": {}
        }
      ]
    }
  ]
}